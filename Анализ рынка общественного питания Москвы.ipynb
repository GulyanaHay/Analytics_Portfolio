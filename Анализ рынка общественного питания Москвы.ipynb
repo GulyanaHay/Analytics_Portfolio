{
 "cells": [
  {
   "cell_type": "markdown",
   "id": "f0358572",
   "metadata": {},
   "source": [
    "## Анализ рынка общественного питания Москвы\n",
    "- Автор: Хайбуллова Гульяна Рафиловна\n",
    "- Дата: 11.02.2025г."
   ]
  },
  {
   "cell_type": "markdown",
   "id": "245ec430",
   "metadata": {},
   "source": [
    "### 0.1  Цели и задачи проекта¶\n",
    "### 0.1.1  Цель\n",
    "- провести исследовательский анализ данных о заведениях общественного питания в г. Москве с целью выявления оптимальной концепции для инвесторов.\n",
    "### 0.1.2  Задачи\n",
    "1. Загрузить данные и познакомиться с их содержимым.\n",
    "2. Провести предобработку данных.\n",
    "3. Провести исследовательский анализ данных:\n",
    "- определить и визуализировать распределение заведений по категориям;\n",
    "- определить соотношение сетевых и несетевых заведений в целом и по категориям;\n",
    "- проанализировать распределение количества посадочных мест;\n",
    "- визуализировать распределение средних рейтингов по категориям;\n",
    "- выявить топ-15 популярных сетей в г. Москве;\n",
    "- изучить вариацию среднего чека по районам г.Москвы.\n",
    "4. Сформулировать выводы по проведённому анализу."
   ]
  },
  {
   "cell_type": "markdown",
   "id": "60426cff",
   "metadata": {},
   "source": [
    "### 0.2  Описание данных\n",
    "Для анализа представлены данные заведениями общественного питания г. Москвы, составленный на основе данных сервисов Яндекс Карты и Яндекс Бизнес на лето 2022 года. Данные состоят из двух датасетов:\n",
    "\n",
    "- файл /datasets/rest_info.csv содержит информацию о заведениях общественного питания;\n",
    "- Файл /datasets/rest_price.csv содержит информацию о среднем чеке в заведениях общественного питания."
   ]
  },
  {
   "cell_type": "markdown",
   "id": "c518bd23",
   "metadata": {},
   "source": [
    "### 0.2.1  Описание датасета о заведениях общественного питания\n",
    "- name — название заведения;\n",
    "- address — адрес заведения;\n",
    "- district — административный район, в котором находится заведение, например Центральный административный округ;\n",
    "- category — категория заведения, например «кафе», «пиццерия» или «кофейня»;\n",
    "- hours — информация о днях и часах работы;\n",
    "- rating — рейтинг заведения по оценкам пользователей в Яндекс Картах (высшая оценка — 5.0);\n",
    "- chain — число, выраженное 0 или 1, которое показывает, является ли заведение сетевым (для маленьких сетей могут встречаться ошибки): 0 — заведение не является сетевым; 1 — заведение является сетевым.\n",
    "- seats — количество посадочных мест.\n",
    "### 0.2.2  Описание датасета о среднем чеке в заведениях общественного питания\n",
    "- price — категория цен в заведении, например «средние», «ниже среднего», «выше среднего» и так далее;\n",
    "- avg_bill — строка, которая хранит среднюю стоимость заказа в виде диапазона, например: «Средний счёт: 1000–1500 ₽»; «Цена чашки капучино: 130–220 ₽»; «Цена бокала пива: 400–600 ₽».;\n",
    "- middle_avg_bill — число с оценкой среднего чека, которое указано только для значений из столбца avg_bill, начинающихся с подстроки «Средний счёт»: Если в строке указан ценовой диапазон из двух значений, в столбец войдёт медиана этих двух значений. Если в строке указано одно число — цена без диапазона, то в столбец войдёт это число. Если значения нет или оно не начинается с подстроки «Средний счёт», то в столбец ничего не войдёт.\n",
    "- middle_coffee_cup — число с оценкой одной чашки капучино, которое указано только для значений из столбца avg_bill, начинающихся с подстроки «Цена одной чашки капучино»: Если в строке указан ценовой диапазон из двух значений, в столбец войдёт медиана этих двух значений. Если в строке указано одно число — цена без диапазона, то в столбец войдёт это число. Если значения нет или оно не начинается с подстроки «Цена одной чашки капучино», то в столбец ничего не войдёт."
   ]
  },
  {
   "cell_type": "markdown",
   "id": "edc29776",
   "metadata": {},
   "source": [
    "## 0.3  Содержимое проекта\n",
    "1. Загрузка данных и знакомство с ними.\n",
    "2. Предобработка данных.\n",
    "3. Исследовательский анализ данных.\n",
    "4. Итоговые выводы."
   ]
  },
  {
   "cell_type": "markdown",
   "id": "f2920990",
   "metadata": {},
   "source": [
    "### 1  1. Загрузка данных и знакомство с ними¶\n",
    "- Загружаем данные о заведениях общественного питания Москвы. Путь к файлам: /datasets/rest_info.csv и /datasets/rest_price.csv."
   ]
  },
  {
   "cell_type": "code",
   "execution_count": 1,
   "id": "776d904b",
   "metadata": {},
   "outputs": [],
   "source": [
    "# Импортируем библиотеки\n",
    "import pandas as pd "
   ]
  },
  {
   "cell_type": "code",
   "execution_count": 2,
   "id": "7e9eb6ee",
   "metadata": {},
   "outputs": [],
   "source": [
    "# Загружаем библиотеки для визуализации данных\n",
    "import matplotlib.pyplot as plt\n",
    "import seaborn as sns\n"
   ]
  },
  {
   "cell_type": "code",
   "execution_count": 3,
   "id": "c9e10e81",
   "metadata": {},
   "outputs": [
    {
     "name": "stdout",
     "output_type": "stream",
     "text": [
      "Requirement already satisfied: phik==0.11.1 in c:\\programdata\\anaconda3\\lib\\site-packages (0.11.1)\n",
      "Requirement already satisfied: pandas>=0.25.1 in c:\\programdata\\anaconda3\\lib\\site-packages (from phik==0.11.1) (1.3.4)\n",
      "Requirement already satisfied: scipy>=1.5.2 in c:\\programdata\\anaconda3\\lib\\site-packages (from phik==0.11.1) (1.7.1)\n",
      "Requirement already satisfied: joblib>=0.14.1 in c:\\programdata\\anaconda3\\lib\\site-packages (from phik==0.11.1) (1.1.0)\n",
      "Requirement already satisfied: numpy>=1.18.0 in c:\\programdata\\anaconda3\\lib\\site-packages (from phik==0.11.1) (1.20.3)\n",
      "Requirement already satisfied: matplotlib>=2.2.3 in c:\\programdata\\anaconda3\\lib\\site-packages (from phik==0.11.1) (3.4.3)\n",
      "Requirement already satisfied: pyparsing>=2.2.1 in c:\\programdata\\anaconda3\\lib\\site-packages (from matplotlib>=2.2.3->phik==0.11.1) (3.0.4)\n",
      "Requirement already satisfied: pillow>=6.2.0 in c:\\programdata\\anaconda3\\lib\\site-packages (from matplotlib>=2.2.3->phik==0.11.1) (8.4.0)\n",
      "Requirement already satisfied: kiwisolver>=1.0.1 in c:\\programdata\\anaconda3\\lib\\site-packages (from matplotlib>=2.2.3->phik==0.11.1) (1.3.1)\n",
      "Requirement already satisfied: cycler>=0.10 in c:\\programdata\\anaconda3\\lib\\site-packages (from matplotlib>=2.2.3->phik==0.11.1) (0.10.0)\n",
      "Requirement already satisfied: python-dateutil>=2.7 in c:\\programdata\\anaconda3\\lib\\site-packages (from matplotlib>=2.2.3->phik==0.11.1) (2.8.2)\n",
      "Requirement already satisfied: six in c:\\programdata\\anaconda3\\lib\\site-packages (from cycler>=0.10->matplotlib>=2.2.3->phik==0.11.1) (1.16.0)\n",
      "Requirement already satisfied: pytz>=2017.3 in c:\\programdata\\anaconda3\\lib\\site-packages (from pandas>=0.25.1->phik==0.11.1) (2021.3)\n"
     ]
    }
   ],
   "source": [
    "!pip install phik==0.11.1\n",
    "from phik import phik_matrix"
   ]
  },
  {
   "cell_type": "code",
   "execution_count": 4,
   "id": "bd0fa815",
   "metadata": {},
   "outputs": [],
   "source": [
    "# Выгружаем данные в переменные rest_info и rest_price\n",
    "rest_info = pd.read_csv('https://code.s3.yandex.net/datasets/rest_info.csv')\n",
    "rest_price = pd.read_csv('https://code.s3.yandex.net/datasets/rest_price.csv') "
   ]
  },
  {
   "cell_type": "code",
   "execution_count": 5,
   "id": "e959fda4",
   "metadata": {},
   "outputs": [
    {
     "data": {
      "text/html": [
       "<div>\n",
       "<style scoped>\n",
       "    .dataframe tbody tr th:only-of-type {\n",
       "        vertical-align: middle;\n",
       "    }\n",
       "\n",
       "    .dataframe tbody tr th {\n",
       "        vertical-align: top;\n",
       "    }\n",
       "\n",
       "    .dataframe thead th {\n",
       "        text-align: right;\n",
       "    }\n",
       "</style>\n",
       "<table border=\"1\" class=\"dataframe\">\n",
       "  <thead>\n",
       "    <tr style=\"text-align: right;\">\n",
       "      <th></th>\n",
       "      <th>id</th>\n",
       "      <th>name</th>\n",
       "      <th>category</th>\n",
       "      <th>address</th>\n",
       "      <th>district</th>\n",
       "      <th>hours</th>\n",
       "      <th>rating</th>\n",
       "      <th>chain</th>\n",
       "      <th>seats</th>\n",
       "    </tr>\n",
       "  </thead>\n",
       "  <tbody>\n",
       "    <tr>\n",
       "      <th>0</th>\n",
       "      <td>0c3e3439a8c64ea5bf6ecd6ca6ae19f0</td>\n",
       "      <td>WoWфли</td>\n",
       "      <td>кафе</td>\n",
       "      <td>Москва, улица Дыбенко, 7/1</td>\n",
       "      <td>Северный административный округ</td>\n",
       "      <td>ежедневно, 10:00–22:00</td>\n",
       "      <td>5.0</td>\n",
       "      <td>0</td>\n",
       "      <td>NaN</td>\n",
       "    </tr>\n",
       "    <tr>\n",
       "      <th>1</th>\n",
       "      <td>045780ada3474c57a2112e505d74b633</td>\n",
       "      <td>Четыре комнаты</td>\n",
       "      <td>ресторан</td>\n",
       "      <td>Москва, улица Дыбенко, 36, корп. 1</td>\n",
       "      <td>Северный административный округ</td>\n",
       "      <td>ежедневно, 10:00–22:00</td>\n",
       "      <td>4.5</td>\n",
       "      <td>0</td>\n",
       "      <td>4.0</td>\n",
       "    </tr>\n",
       "    <tr>\n",
       "      <th>2</th>\n",
       "      <td>1070b6b59144425896c65889347fcff6</td>\n",
       "      <td>Хазри</td>\n",
       "      <td>кафе</td>\n",
       "      <td>Москва, Клязьминская улица, 15</td>\n",
       "      <td>Северный административный округ</td>\n",
       "      <td>пн-чт 11:00–02:00; пт,сб 11:00–05:00; вс 11:00...</td>\n",
       "      <td>4.6</td>\n",
       "      <td>0</td>\n",
       "      <td>45.0</td>\n",
       "    </tr>\n",
       "    <tr>\n",
       "      <th>3</th>\n",
       "      <td>03ac7cd772104f65b58b349dc59f03ee</td>\n",
       "      <td>Dormouse Coffee Shop</td>\n",
       "      <td>кофейня</td>\n",
       "      <td>Москва, улица Маршала Федоренко, 12</td>\n",
       "      <td>Северный административный округ</td>\n",
       "      <td>ежедневно, 09:00–22:00</td>\n",
       "      <td>5.0</td>\n",
       "      <td>0</td>\n",
       "      <td>NaN</td>\n",
       "    </tr>\n",
       "    <tr>\n",
       "      <th>4</th>\n",
       "      <td>a163aada139c4c7f87b0b1c0b466a50f</td>\n",
       "      <td>Иль Марко</td>\n",
       "      <td>пиццерия</td>\n",
       "      <td>Москва, Правобережная улица, 1Б</td>\n",
       "      <td>Северный административный округ</td>\n",
       "      <td>ежедневно, 10:00–22:00</td>\n",
       "      <td>5.0</td>\n",
       "      <td>1</td>\n",
       "      <td>148.0</td>\n",
       "    </tr>\n",
       "  </tbody>\n",
       "</table>\n",
       "</div>"
      ],
      "text/plain": [
       "                                 id                  name  category  \\\n",
       "0  0c3e3439a8c64ea5bf6ecd6ca6ae19f0                WoWфли      кафе   \n",
       "1  045780ada3474c57a2112e505d74b633        Четыре комнаты  ресторан   \n",
       "2  1070b6b59144425896c65889347fcff6                 Хазри      кафе   \n",
       "3  03ac7cd772104f65b58b349dc59f03ee  Dormouse Coffee Shop   кофейня   \n",
       "4  a163aada139c4c7f87b0b1c0b466a50f             Иль Марко  пиццерия   \n",
       "\n",
       "                               address                         district  \\\n",
       "0           Москва, улица Дыбенко, 7/1  Северный административный округ   \n",
       "1   Москва, улица Дыбенко, 36, корп. 1  Северный административный округ   \n",
       "2       Москва, Клязьминская улица, 15  Северный административный округ   \n",
       "3  Москва, улица Маршала Федоренко, 12  Северный административный округ   \n",
       "4      Москва, Правобережная улица, 1Б  Северный административный округ   \n",
       "\n",
       "                                               hours  rating  chain  seats  \n",
       "0                             ежедневно, 10:00–22:00     5.0      0    NaN  \n",
       "1                             ежедневно, 10:00–22:00     4.5      0    4.0  \n",
       "2  пн-чт 11:00–02:00; пт,сб 11:00–05:00; вс 11:00...     4.6      0   45.0  \n",
       "3                             ежедневно, 09:00–22:00     5.0      0    NaN  \n",
       "4                             ежедневно, 10:00–22:00     5.0      1  148.0  "
      ]
     },
     "execution_count": 5,
     "metadata": {},
     "output_type": "execute_result"
    }
   ],
   "source": [
    "# Выводим первые строки датафрейма rest_info на экран\n",
    "rest_info.head() "
   ]
  },
  {
   "cell_type": "code",
   "execution_count": 6,
   "id": "ec0d7fa9",
   "metadata": {},
   "outputs": [
    {
     "name": "stdout",
     "output_type": "stream",
     "text": [
      "<class 'pandas.core.frame.DataFrame'>\n",
      "RangeIndex: 8406 entries, 0 to 8405\n",
      "Data columns (total 9 columns):\n",
      " #   Column    Non-Null Count  Dtype  \n",
      "---  ------    --------------  -----  \n",
      " 0   id        8406 non-null   object \n",
      " 1   name      8406 non-null   object \n",
      " 2   category  8406 non-null   object \n",
      " 3   address   8406 non-null   object \n",
      " 4   district  8406 non-null   object \n",
      " 5   hours     7870 non-null   object \n",
      " 6   rating    8406 non-null   float64\n",
      " 7   chain     8406 non-null   int64  \n",
      " 8   seats     4795 non-null   float64\n",
      "dtypes: float64(2), int64(1), object(6)\n",
      "memory usage: 591.2+ KB\n"
     ]
    }
   ],
   "source": [
    "# Выводим информацию о датафрейме rest_info\n",
    "rest_info.info() "
   ]
  },
  {
   "cell_type": "code",
   "execution_count": 7,
   "id": "732999f8",
   "metadata": {},
   "outputs": [
    {
     "data": {
      "text/plain": [
       "Index(['id', 'name', 'category', 'address', 'district', 'hours', 'rating',\n",
       "       'chain', 'seats'],\n",
       "      dtype='object')"
      ]
     },
     "execution_count": 7,
     "metadata": {},
     "output_type": "execute_result"
    }
   ],
   "source": [
    "# Выводим названия столбцов датафрейма rest_info\n",
    "rest_info.columns "
   ]
  },
  {
   "cell_type": "code",
   "execution_count": 8,
   "id": "323266fd",
   "metadata": {},
   "outputs": [
    {
     "data": {
      "text/plain": [
       "id             0\n",
       "name           0\n",
       "category       0\n",
       "address        0\n",
       "district       0\n",
       "hours        536\n",
       "rating         0\n",
       "chain          0\n",
       "seats       3611\n",
       "dtype: int64"
      ]
     },
     "execution_count": 8,
     "metadata": {},
     "output_type": "execute_result"
    }
   ],
   "source": [
    "# Применяем метод isna() к датафрейму rest_info\n",
    "rest_info.isna().sum() "
   ]
  },
  {
   "cell_type": "code",
   "execution_count": 9,
   "id": "8f820519",
   "metadata": {},
   "outputs": [
    {
     "data": {
      "text/plain": [
       "id          0.000000\n",
       "name        0.000000\n",
       "category    0.000000\n",
       "address     0.000000\n",
       "district    0.000000\n",
       "hours       0.063764\n",
       "rating      0.000000\n",
       "chain       0.000000\n",
       "seats       0.429574\n",
       "dtype: float64"
      ]
     },
     "execution_count": 9,
     "metadata": {},
     "output_type": "execute_result"
    }
   ],
   "source": [
    "# Подсчитываем долю строк с пропусками\n",
    "rest_info.isna().sum() / rest_info.shape[0] "
   ]
  },
  {
   "cell_type": "code",
   "execution_count": 10,
   "id": "57aca485",
   "metadata": {},
   "outputs": [
    {
     "data": {
      "text/html": [
       "<div>\n",
       "<style scoped>\n",
       "    .dataframe tbody tr th:only-of-type {\n",
       "        vertical-align: middle;\n",
       "    }\n",
       "\n",
       "    .dataframe tbody tr th {\n",
       "        vertical-align: top;\n",
       "    }\n",
       "\n",
       "    .dataframe thead th {\n",
       "        text-align: right;\n",
       "    }\n",
       "</style>\n",
       "<table border=\"1\" class=\"dataframe\">\n",
       "  <thead>\n",
       "    <tr style=\"text-align: right;\">\n",
       "      <th></th>\n",
       "      <th>id</th>\n",
       "      <th>price</th>\n",
       "      <th>avg_bill</th>\n",
       "      <th>middle_avg_bill</th>\n",
       "      <th>middle_coffee_cup</th>\n",
       "    </tr>\n",
       "  </thead>\n",
       "  <tbody>\n",
       "    <tr>\n",
       "      <th>0</th>\n",
       "      <td>045780ada3474c57a2112e505d74b633</td>\n",
       "      <td>выше среднего</td>\n",
       "      <td>Средний счёт:1500–1600 ₽</td>\n",
       "      <td>1550.0</td>\n",
       "      <td>NaN</td>\n",
       "    </tr>\n",
       "    <tr>\n",
       "      <th>1</th>\n",
       "      <td>1070b6b59144425896c65889347fcff6</td>\n",
       "      <td>средние</td>\n",
       "      <td>Средний счёт:от 1000 ₽</td>\n",
       "      <td>1000.0</td>\n",
       "      <td>NaN</td>\n",
       "    </tr>\n",
       "    <tr>\n",
       "      <th>2</th>\n",
       "      <td>03ac7cd772104f65b58b349dc59f03ee</td>\n",
       "      <td>NaN</td>\n",
       "      <td>Цена чашки капучино:155–185 ₽</td>\n",
       "      <td>NaN</td>\n",
       "      <td>170.0</td>\n",
       "    </tr>\n",
       "    <tr>\n",
       "      <th>3</th>\n",
       "      <td>a163aada139c4c7f87b0b1c0b466a50f</td>\n",
       "      <td>средние</td>\n",
       "      <td>Средний счёт:400–600 ₽</td>\n",
       "      <td>500.0</td>\n",
       "      <td>NaN</td>\n",
       "    </tr>\n",
       "    <tr>\n",
       "      <th>4</th>\n",
       "      <td>8a343546b24e4a499ad96eb7d0797a8a</td>\n",
       "      <td>средние</td>\n",
       "      <td>NaN</td>\n",
       "      <td>NaN</td>\n",
       "      <td>NaN</td>\n",
       "    </tr>\n",
       "  </tbody>\n",
       "</table>\n",
       "</div>"
      ],
      "text/plain": [
       "                                 id          price  \\\n",
       "0  045780ada3474c57a2112e505d74b633  выше среднего   \n",
       "1  1070b6b59144425896c65889347fcff6        средние   \n",
       "2  03ac7cd772104f65b58b349dc59f03ee            NaN   \n",
       "3  a163aada139c4c7f87b0b1c0b466a50f        средние   \n",
       "4  8a343546b24e4a499ad96eb7d0797a8a        средние   \n",
       "\n",
       "                        avg_bill  middle_avg_bill  middle_coffee_cup  \n",
       "0       Средний счёт:1500–1600 ₽           1550.0                NaN  \n",
       "1         Средний счёт:от 1000 ₽           1000.0                NaN  \n",
       "2  Цена чашки капучино:155–185 ₽              NaN              170.0  \n",
       "3         Средний счёт:400–600 ₽            500.0                NaN  \n",
       "4                            NaN              NaN                NaN  "
      ]
     },
     "execution_count": 10,
     "metadata": {},
     "output_type": "execute_result"
    }
   ],
   "source": [
    "# Выводим первые строки датафрейма rest_price на экран\n",
    "rest_price.head() "
   ]
  },
  {
   "cell_type": "code",
   "execution_count": 11,
   "id": "0b83ee41",
   "metadata": {},
   "outputs": [
    {
     "name": "stdout",
     "output_type": "stream",
     "text": [
      "<class 'pandas.core.frame.DataFrame'>\n",
      "RangeIndex: 4058 entries, 0 to 4057\n",
      "Data columns (total 5 columns):\n",
      " #   Column             Non-Null Count  Dtype  \n",
      "---  ------             --------------  -----  \n",
      " 0   id                 4058 non-null   object \n",
      " 1   price              3315 non-null   object \n",
      " 2   avg_bill           3816 non-null   object \n",
      " 3   middle_avg_bill    3149 non-null   float64\n",
      " 4   middle_coffee_cup  535 non-null    float64\n",
      "dtypes: float64(2), object(3)\n",
      "memory usage: 158.6+ KB\n"
     ]
    }
   ],
   "source": [
    "# Выводим информацию о датафрейме rest_price\n",
    "rest_price.info() "
   ]
  },
  {
   "cell_type": "code",
   "execution_count": 12,
   "id": "94dcf64a",
   "metadata": {},
   "outputs": [
    {
     "data": {
      "text/plain": [
       "Index(['id', 'price', 'avg_bill', 'middle_avg_bill', 'middle_coffee_cup'], dtype='object')"
      ]
     },
     "execution_count": 12,
     "metadata": {},
     "output_type": "execute_result"
    }
   ],
   "source": [
    "# Выводим названия столбцов датафрейма rest_price\n",
    "rest_price.columns "
   ]
  },
  {
   "cell_type": "code",
   "execution_count": 13,
   "id": "fec52016",
   "metadata": {},
   "outputs": [
    {
     "data": {
      "text/plain": [
       "id                      0\n",
       "price                 743\n",
       "avg_bill              242\n",
       "middle_avg_bill       909\n",
       "middle_coffee_cup    3523\n",
       "dtype: int64"
      ]
     },
     "execution_count": 13,
     "metadata": {},
     "output_type": "execute_result"
    }
   ],
   "source": [
    "# Применяем метод isna() к датафрейму rest_price\n",
    "rest_price.isna().sum() "
   ]
  },
  {
   "cell_type": "code",
   "execution_count": 14,
   "id": "addca7b4",
   "metadata": {},
   "outputs": [
    {
     "data": {
      "text/plain": [
       "id                   0.000000\n",
       "price                0.183095\n",
       "avg_bill             0.059635\n",
       "middle_avg_bill      0.224002\n",
       "middle_coffee_cup    0.868162\n",
       "dtype: float64"
      ]
     },
     "execution_count": 14,
     "metadata": {},
     "output_type": "execute_result"
    }
   ],
   "source": [
    "# Подсчитываем долю строк с пропусками\n",
    "rest_price.isna().sum() / rest_price.shape[0] "
   ]
  },
  {
   "cell_type": "markdown",
   "id": "869e96c7",
   "metadata": {},
   "source": [
    "## 1.1  Промежуточный вывод\n",
    "- Набор данных rest_info содержит 9 столбцов и 8406 строк. Названия столбцов прописаны в едином стиле написания.\n",
    "- Столбцы id, name, category, address, distcrit, hours содержат строковые данные (object), и данный формат подходит данным столбцам.\n",
    "- Столбцы rating и seats — числовые. Что соответствует описанию.\n",
    "- Столбец chain является целочисленным, но представляет собой категориальный признак.\n",
    "- Столбец hours содержит 536 пропущенных значений. Это может быть связано с отсутствием информации о времени работы некоторых заведений. Доля пропусков составляет 6,3%.\n",
    "- Столбец seats содержит значительное количество пропущенных значений - 3611. Что составляет значительную долю - 42%. Это может означать, что для многих заведений информация о количестве посадочных мест отсутствует или не была собрана.\n",
    "- Необходимо принять решение о том, как обрабатывать пропущенные значения в столбцах hours и seats. Возможные варианты: оставить как есть, заполнение средним/медианным значением, заполнение на основе других признаков. Удаление данных пропусков лучше не делать. Так как это исказить результаты анализа.\n",
    "- Набор данных rest_price содержит 5 столбцов и 4058 строк. Названия столбцов прописаны в едином стиле написания.\n",
    "- Столбцы id, price, avg_bill содержат строковые данные (object), и данный формат подходит данным столбцам.\n",
    "- Столбцы middle_avg_bill и middle_coffee_cup — числовые. Что соответствует данным.\n",
    "- Столбец price содержит 743пропущенных значений, что может указывать на отсутствие информации о ценовой категории для некоторых заведений. Доля пропущенных значений - 18%.\n",
    "- Столбцы avg_bill и middle_avg_bill имеют пропущенные значения, avg_bill - 242 (доля пропущенных значений 6%), middle_avg_bill - 909 (доля пропущенных значений 22%).\n",
    "- Столбец middle_coffee_cup содержит большое количество пропущенных значений - 3523, доля пропущенных значений - 87%. Могу предположить, что данные о цене кофе либо не собирались, либо доступны только для очень небольшого числа заведений."
   ]
  },
  {
   "cell_type": "markdown",
   "id": "53441f23",
   "metadata": {},
   "source": [
    "## 1.2  Подготовка единого датафрейма\n",
    "Объединяем данные двух датасетов в один, с которым продолжим работу."
   ]
  },
  {
   "cell_type": "code",
   "execution_count": 15,
   "id": "1a866488",
   "metadata": {},
   "outputs": [],
   "source": [
    "# Соединяем данные в единый датафрейм df\n",
    "df = rest_info.merge(rest_price, how='left', on='id') "
   ]
  },
  {
   "cell_type": "code",
   "execution_count": 16,
   "id": "16cbfc9e",
   "metadata": {},
   "outputs": [
    {
     "name": "stdout",
     "output_type": "stream",
     "text": [
      "<class 'pandas.core.frame.DataFrame'>\n",
      "Int64Index: 8406 entries, 0 to 8405\n",
      "Data columns (total 13 columns):\n",
      " #   Column             Non-Null Count  Dtype  \n",
      "---  ------             --------------  -----  \n",
      " 0   id                 8406 non-null   object \n",
      " 1   name               8406 non-null   object \n",
      " 2   category           8406 non-null   object \n",
      " 3   address            8406 non-null   object \n",
      " 4   district           8406 non-null   object \n",
      " 5   hours              7870 non-null   object \n",
      " 6   rating             8406 non-null   float64\n",
      " 7   chain              8406 non-null   int64  \n",
      " 8   seats              4795 non-null   float64\n",
      " 9   price              3315 non-null   object \n",
      " 10  avg_bill           3816 non-null   object \n",
      " 11  middle_avg_bill    3149 non-null   float64\n",
      " 12  middle_coffee_cup  535 non-null    float64\n",
      "dtypes: float64(4), int64(1), object(8)\n",
      "memory usage: 919.4+ KB\n"
     ]
    }
   ],
   "source": [
    "# Выводим информацию о датафрейме\n",
    "df.info() "
   ]
  },
  {
   "cell_type": "code",
   "execution_count": 17,
   "id": "acacb2b0",
   "metadata": {},
   "outputs": [
    {
     "data": {
      "text/plain": [
       "'Распределение данных по значениям столбца category:'"
      ]
     },
     "metadata": {},
     "output_type": "display_data"
    },
    {
     "data": {
      "text/plain": [
       "кафе               2378\n",
       "ресторан           2043\n",
       "кофейня            1413\n",
       "бар,паб             765\n",
       "пиццерия            633\n",
       "быстрое питание     603\n",
       "столовая            315\n",
       "булочная            256\n",
       "Name: category, dtype: int64"
      ]
     },
     "execution_count": 17,
     "metadata": {},
     "output_type": "execute_result"
    }
   ],
   "source": [
    "# Проверяем распределение данных по значениям столбца category\n",
    "display('Распределение данных по значениям столбца category:')\n",
    "df['category'].value_counts() "
   ]
  },
  {
   "cell_type": "markdown",
   "id": "10a8c2d0",
   "metadata": {},
   "source": [
    "## 1.3  Промежуточный вывод:\n",
    "- Количество строк в объединнёном датафрейме: 8406 (значительно больше, чем в rest_price, поэтому how='left' сработал, оставив все строки из rest_info).\n",
    "- Количество столбцов: 13.\n",
    "- Типы данных: 4 столбца с типом float64, 1 столбец с типом int64 и 8 столбцов с типом object (строки).\n",
    "- Пропущенные значения: (Как уже отмечалось ранее, но важно помнить) hours, seats, price, avg_bill, middle_avg_bill, middle_coffee_cup содержат пропущенные значения. Особенно много пропусков в seats и middle_coffee_cup."
   ]
  },
  {
   "cell_type": "markdown",
   "id": "cd23b71a",
   "metadata": {},
   "source": [
    "## 2  2. Предобработка данных\n",
    "Подготовим данные к исследовательскому анализу:\n",
    "\n",
    "- Изучим корректность типов данных и при необходимости проведем их преобразование.\n",
    "- Все столбцы (id, name, category, address, district, hours, rating, chain, seat, price, avg_bill, middle_avg_bill, middle_coffee_cup) не требуют преобразование. Они уже имеют правильный тип данных.\n",
    "- Изучим пропущенные значения в данных"
   ]
  },
  {
   "cell_type": "code",
   "execution_count": 18,
   "id": "e9b1cd53",
   "metadata": {},
   "outputs": [
    {
     "name": "stdout",
     "output_type": "stream",
     "text": [
      "Количество пропущенных значений в каждом столбце:\n",
      " middle_coffee_cup    7871\n",
      "middle_avg_bill      5257\n",
      "price                5091\n",
      "avg_bill             4590\n",
      "seats                3611\n",
      "hours                 536\n",
      "id                      0\n",
      "name                    0\n",
      "category                0\n",
      "address                 0\n",
      "district                0\n",
      "rating                  0\n",
      "chain                   0\n",
      "dtype: int64\n"
     ]
    }
   ],
   "source": [
    "# Подсчет пропущенных значений в каждом столбце\n",
    "missing_values = df.isnull().sum()\n",
    "missing_values_sorted = missing_values.sort_values(ascending=False)\n",
    "print(\"Количество пропущенных значений в каждом столбце:\\n\", missing_values_sorted)"
   ]
  },
  {
   "cell_type": "code",
   "execution_count": 19,
   "id": "5934d642",
   "metadata": {},
   "outputs": [
    {
     "name": "stdout",
     "output_type": "stream",
     "text": [
      "\n",
      "Процент пропущенных значений в каждом столбце:\n",
      " middle_coffee_cup    93.635498\n",
      "middle_avg_bill      62.538663\n",
      "price                60.563883\n",
      "avg_bill             54.603854\n",
      "seats                42.957411\n",
      "hours                 6.376398\n",
      "id                    0.000000\n",
      "name                  0.000000\n",
      "category              0.000000\n",
      "address               0.000000\n",
      "district              0.000000\n",
      "rating                0.000000\n",
      "chain                 0.000000\n",
      "dtype: float64\n"
     ]
    }
   ],
   "source": [
    "# Вывод доли пропущенных значений\n",
    "missing_percentage = (df.isnull().sum() / len(df)) * 100\n",
    "missing_percentage_sorted = missing_percentage.sort_values(ascending=False)\n",
    "print(\"\\nПроцент пропущенных значений в каждом столбце:\\n\", missing_percentage_sorted)"
   ]
  },
  {
   "cell_type": "code",
   "execution_count": 20,
   "id": "fc15c0a8",
   "metadata": {},
   "outputs": [
    {
     "data": {
      "text/plain": [
       "'Примеры строк с пропущенными значениями в столбце seats:'"
      ]
     },
     "metadata": {},
     "output_type": "display_data"
    },
    {
     "data": {
      "text/html": [
       "<div>\n",
       "<style scoped>\n",
       "    .dataframe tbody tr th:only-of-type {\n",
       "        vertical-align: middle;\n",
       "    }\n",
       "\n",
       "    .dataframe tbody tr th {\n",
       "        vertical-align: top;\n",
       "    }\n",
       "\n",
       "    .dataframe thead th {\n",
       "        text-align: right;\n",
       "    }\n",
       "</style>\n",
       "<table border=\"1\" class=\"dataframe\">\n",
       "  <thead>\n",
       "    <tr style=\"text-align: right;\">\n",
       "      <th></th>\n",
       "      <th>id</th>\n",
       "      <th>name</th>\n",
       "      <th>category</th>\n",
       "      <th>address</th>\n",
       "      <th>district</th>\n",
       "      <th>hours</th>\n",
       "      <th>rating</th>\n",
       "      <th>chain</th>\n",
       "      <th>seats</th>\n",
       "      <th>price</th>\n",
       "      <th>avg_bill</th>\n",
       "      <th>middle_avg_bill</th>\n",
       "      <th>middle_coffee_cup</th>\n",
       "    </tr>\n",
       "  </thead>\n",
       "  <tbody>\n",
       "    <tr>\n",
       "      <th>0</th>\n",
       "      <td>0c3e3439a8c64ea5bf6ecd6ca6ae19f0</td>\n",
       "      <td>WoWфли</td>\n",
       "      <td>кафе</td>\n",
       "      <td>Москва, улица Дыбенко, 7/1</td>\n",
       "      <td>Северный административный округ</td>\n",
       "      <td>ежедневно, 10:00–22:00</td>\n",
       "      <td>5.0</td>\n",
       "      <td>0</td>\n",
       "      <td>NaN</td>\n",
       "      <td>NaN</td>\n",
       "      <td>NaN</td>\n",
       "      <td>NaN</td>\n",
       "      <td>NaN</td>\n",
       "    </tr>\n",
       "    <tr>\n",
       "      <th>3</th>\n",
       "      <td>03ac7cd772104f65b58b349dc59f03ee</td>\n",
       "      <td>Dormouse Coffee Shop</td>\n",
       "      <td>кофейня</td>\n",
       "      <td>Москва, улица Маршала Федоренко, 12</td>\n",
       "      <td>Северный административный округ</td>\n",
       "      <td>ежедневно, 09:00–22:00</td>\n",
       "      <td>5.0</td>\n",
       "      <td>0</td>\n",
       "      <td>NaN</td>\n",
       "      <td>NaN</td>\n",
       "      <td>Цена чашки капучино:155–185 ₽</td>\n",
       "      <td>NaN</td>\n",
       "      <td>170.0</td>\n",
       "    </tr>\n",
       "    <tr>\n",
       "      <th>5</th>\n",
       "      <td>8a343546b24e4a499ad96eb7d0797a8a</td>\n",
       "      <td>Sergio Pizza</td>\n",
       "      <td>пиццерия</td>\n",
       "      <td>Москва, Ижорская улица, вл8Б</td>\n",
       "      <td>Северный административный округ</td>\n",
       "      <td>ежедневно, 10:00–23:00</td>\n",
       "      <td>4.6</td>\n",
       "      <td>0</td>\n",
       "      <td>NaN</td>\n",
       "      <td>средние</td>\n",
       "      <td>NaN</td>\n",
       "      <td>NaN</td>\n",
       "      <td>NaN</td>\n",
       "    </tr>\n",
       "    <tr>\n",
       "      <th>11</th>\n",
       "      <td>53ac103717c142f29907080db1f0ce58</td>\n",
       "      <td>Шашлык Шефф</td>\n",
       "      <td>кафе</td>\n",
       "      <td>Москва, улица Маршала Федоренко, 10с1</td>\n",
       "      <td>Северный административный округ</td>\n",
       "      <td>ежедневно, 10:00–21:00</td>\n",
       "      <td>4.9</td>\n",
       "      <td>0</td>\n",
       "      <td>NaN</td>\n",
       "      <td>NaN</td>\n",
       "      <td>NaN</td>\n",
       "      <td>NaN</td>\n",
       "      <td>NaN</td>\n",
       "    </tr>\n",
       "    <tr>\n",
       "      <th>12</th>\n",
       "      <td>9384a51a4b2749759234df689b3a4857</td>\n",
       "      <td>Заправка</td>\n",
       "      <td>кафе</td>\n",
       "      <td>Москва, МКАД, 80-й километр, 1</td>\n",
       "      <td>Северный административный округ</td>\n",
       "      <td>вт-сб 09:00–18:00</td>\n",
       "      <td>4.3</td>\n",
       "      <td>0</td>\n",
       "      <td>NaN</td>\n",
       "      <td>средние</td>\n",
       "      <td>Средний счёт:330 ₽</td>\n",
       "      <td>330.0</td>\n",
       "      <td>NaN</td>\n",
       "    </tr>\n",
       "  </tbody>\n",
       "</table>\n",
       "</div>"
      ],
      "text/plain": [
       "                                  id                  name  category  \\\n",
       "0   0c3e3439a8c64ea5bf6ecd6ca6ae19f0                WoWфли      кафе   \n",
       "3   03ac7cd772104f65b58b349dc59f03ee  Dormouse Coffee Shop   кофейня   \n",
       "5   8a343546b24e4a499ad96eb7d0797a8a          Sergio Pizza  пиццерия   \n",
       "11  53ac103717c142f29907080db1f0ce58           Шашлык Шефф      кафе   \n",
       "12  9384a51a4b2749759234df689b3a4857              Заправка      кафе   \n",
       "\n",
       "                                  address                         district  \\\n",
       "0              Москва, улица Дыбенко, 7/1  Северный административный округ   \n",
       "3     Москва, улица Маршала Федоренко, 12  Северный административный округ   \n",
       "5            Москва, Ижорская улица, вл8Б  Северный административный округ   \n",
       "11  Москва, улица Маршала Федоренко, 10с1  Северный административный округ   \n",
       "12         Москва, МКАД, 80-й километр, 1  Северный административный округ   \n",
       "\n",
       "                     hours  rating  chain  seats    price  \\\n",
       "0   ежедневно, 10:00–22:00     5.0      0    NaN      NaN   \n",
       "3   ежедневно, 09:00–22:00     5.0      0    NaN      NaN   \n",
       "5   ежедневно, 10:00–23:00     4.6      0    NaN  средние   \n",
       "11  ежедневно, 10:00–21:00     4.9      0    NaN      NaN   \n",
       "12       вт-сб 09:00–18:00     4.3      0    NaN  средние   \n",
       "\n",
       "                         avg_bill  middle_avg_bill  middle_coffee_cup  \n",
       "0                             NaN              NaN                NaN  \n",
       "3   Цена чашки капучино:155–185 ₽              NaN              170.0  \n",
       "5                             NaN              NaN                NaN  \n",
       "11                            NaN              NaN                NaN  \n",
       "12             Средний счёт:330 ₽            330.0                NaN  "
      ]
     },
     "metadata": {},
     "output_type": "display_data"
    }
   ],
   "source": [
    "# Изучение данных с пропущенными значениями (например, для 'seats')\n",
    "missing_seats = df[df['seats'].isnull()]\n",
    "display(\"Примеры строк с пропущенными значениями в столбце seats:\", missing_seats.head()) # Первые 5 строк"
   ]
  },
  {
   "cell_type": "code",
   "execution_count": 21,
   "id": "cdce9945",
   "metadata": {},
   "outputs": [
    {
     "data": {
      "text/plain": [
       "'Примеры строк с пропущенными значениями в столбце price:'"
      ]
     },
     "metadata": {},
     "output_type": "display_data"
    },
    {
     "data": {
      "text/html": [
       "<div>\n",
       "<style scoped>\n",
       "    .dataframe tbody tr th:only-of-type {\n",
       "        vertical-align: middle;\n",
       "    }\n",
       "\n",
       "    .dataframe tbody tr th {\n",
       "        vertical-align: top;\n",
       "    }\n",
       "\n",
       "    .dataframe thead th {\n",
       "        text-align: right;\n",
       "    }\n",
       "</style>\n",
       "<table border=\"1\" class=\"dataframe\">\n",
       "  <thead>\n",
       "    <tr style=\"text-align: right;\">\n",
       "      <th></th>\n",
       "      <th>id</th>\n",
       "      <th>name</th>\n",
       "      <th>category</th>\n",
       "      <th>address</th>\n",
       "      <th>district</th>\n",
       "      <th>hours</th>\n",
       "      <th>rating</th>\n",
       "      <th>chain</th>\n",
       "      <th>seats</th>\n",
       "      <th>price</th>\n",
       "      <th>avg_bill</th>\n",
       "      <th>middle_avg_bill</th>\n",
       "      <th>middle_coffee_cup</th>\n",
       "    </tr>\n",
       "  </thead>\n",
       "  <tbody>\n",
       "    <tr>\n",
       "      <th>0</th>\n",
       "      <td>0c3e3439a8c64ea5bf6ecd6ca6ae19f0</td>\n",
       "      <td>WoWфли</td>\n",
       "      <td>кафе</td>\n",
       "      <td>Москва, улица Дыбенко, 7/1</td>\n",
       "      <td>Северный административный округ</td>\n",
       "      <td>ежедневно, 10:00–22:00</td>\n",
       "      <td>5.0</td>\n",
       "      <td>0</td>\n",
       "      <td>NaN</td>\n",
       "      <td>NaN</td>\n",
       "      <td>NaN</td>\n",
       "      <td>NaN</td>\n",
       "      <td>NaN</td>\n",
       "    </tr>\n",
       "    <tr>\n",
       "      <th>3</th>\n",
       "      <td>03ac7cd772104f65b58b349dc59f03ee</td>\n",
       "      <td>Dormouse Coffee Shop</td>\n",
       "      <td>кофейня</td>\n",
       "      <td>Москва, улица Маршала Федоренко, 12</td>\n",
       "      <td>Северный административный округ</td>\n",
       "      <td>ежедневно, 09:00–22:00</td>\n",
       "      <td>5.0</td>\n",
       "      <td>0</td>\n",
       "      <td>NaN</td>\n",
       "      <td>NaN</td>\n",
       "      <td>Цена чашки капучино:155–185 ₽</td>\n",
       "      <td>NaN</td>\n",
       "      <td>170.0</td>\n",
       "    </tr>\n",
       "    <tr>\n",
       "      <th>11</th>\n",
       "      <td>53ac103717c142f29907080db1f0ce58</td>\n",
       "      <td>Шашлык Шефф</td>\n",
       "      <td>кафе</td>\n",
       "      <td>Москва, улица Маршала Федоренко, 10с1</td>\n",
       "      <td>Северный административный округ</td>\n",
       "      <td>ежедневно, 10:00–21:00</td>\n",
       "      <td>4.9</td>\n",
       "      <td>0</td>\n",
       "      <td>NaN</td>\n",
       "      <td>NaN</td>\n",
       "      <td>NaN</td>\n",
       "      <td>NaN</td>\n",
       "      <td>NaN</td>\n",
       "    </tr>\n",
       "    <tr>\n",
       "      <th>13</th>\n",
       "      <td>aea18265b0a0415893f1e796b82568fe</td>\n",
       "      <td>Буханка</td>\n",
       "      <td>булочная</td>\n",
       "      <td>Москва, Базовская улица, 15, корп. 1</td>\n",
       "      <td>Северный административный округ</td>\n",
       "      <td>ежедневно, 08:00–22:00</td>\n",
       "      <td>4.8</td>\n",
       "      <td>1</td>\n",
       "      <td>180.0</td>\n",
       "      <td>NaN</td>\n",
       "      <td>NaN</td>\n",
       "      <td>NaN</td>\n",
       "      <td>NaN</td>\n",
       "    </tr>\n",
       "    <tr>\n",
       "      <th>19</th>\n",
       "      <td>feec6bedccae44cb877d99c13f9aa5d7</td>\n",
       "      <td>Пекарня</td>\n",
       "      <td>булочная</td>\n",
       "      <td>Москва, Ижорский проезд, 5</td>\n",
       "      <td>Северный административный округ</td>\n",
       "      <td>ежедневно, круглосуточно</td>\n",
       "      <td>4.4</td>\n",
       "      <td>1</td>\n",
       "      <td>NaN</td>\n",
       "      <td>NaN</td>\n",
       "      <td>NaN</td>\n",
       "      <td>NaN</td>\n",
       "      <td>NaN</td>\n",
       "    </tr>\n",
       "  </tbody>\n",
       "</table>\n",
       "</div>"
      ],
      "text/plain": [
       "                                  id                  name  category  \\\n",
       "0   0c3e3439a8c64ea5bf6ecd6ca6ae19f0                WoWфли      кафе   \n",
       "3   03ac7cd772104f65b58b349dc59f03ee  Dormouse Coffee Shop   кофейня   \n",
       "11  53ac103717c142f29907080db1f0ce58           Шашлык Шефф      кафе   \n",
       "13  aea18265b0a0415893f1e796b82568fe               Буханка  булочная   \n",
       "19  feec6bedccae44cb877d99c13f9aa5d7               Пекарня  булочная   \n",
       "\n",
       "                                  address                         district  \\\n",
       "0              Москва, улица Дыбенко, 7/1  Северный административный округ   \n",
       "3     Москва, улица Маршала Федоренко, 12  Северный административный округ   \n",
       "11  Москва, улица Маршала Федоренко, 10с1  Северный административный округ   \n",
       "13   Москва, Базовская улица, 15, корп. 1  Северный административный округ   \n",
       "19             Москва, Ижорский проезд, 5  Северный административный округ   \n",
       "\n",
       "                       hours  rating  chain  seats price  \\\n",
       "0     ежедневно, 10:00–22:00     5.0      0    NaN   NaN   \n",
       "3     ежедневно, 09:00–22:00     5.0      0    NaN   NaN   \n",
       "11    ежедневно, 10:00–21:00     4.9      0    NaN   NaN   \n",
       "13    ежедневно, 08:00–22:00     4.8      1  180.0   NaN   \n",
       "19  ежедневно, круглосуточно     4.4      1    NaN   NaN   \n",
       "\n",
       "                         avg_bill  middle_avg_bill  middle_coffee_cup  \n",
       "0                             NaN              NaN                NaN  \n",
       "3   Цена чашки капучино:155–185 ₽              NaN              170.0  \n",
       "11                            NaN              NaN                NaN  \n",
       "13                            NaN              NaN                NaN  \n",
       "19                            NaN              NaN                NaN  "
      ]
     },
     "metadata": {},
     "output_type": "display_data"
    }
   ],
   "source": [
    "# Изучение данных с пропущенными значениями (например, для 'price')\n",
    "missing_price = df[df['price'].isnull()]\n",
    "display(\"Примеры строк с пропущенными значениями в столбце price:\", missing_price.head()) # Первые 5 строк"
   ]
  },
  {
   "cell_type": "code",
   "execution_count": 22,
   "id": "f2fb09fa",
   "metadata": {},
   "outputs": [
    {
     "data": {
      "text/plain": [
       "\"Примеры строк с пропущенными значениями в столбце 'avg_bill'\""
      ]
     },
     "metadata": {},
     "output_type": "display_data"
    },
    {
     "data": {
      "text/html": [
       "<div>\n",
       "<style scoped>\n",
       "    .dataframe tbody tr th:only-of-type {\n",
       "        vertical-align: middle;\n",
       "    }\n",
       "\n",
       "    .dataframe tbody tr th {\n",
       "        vertical-align: top;\n",
       "    }\n",
       "\n",
       "    .dataframe thead th {\n",
       "        text-align: right;\n",
       "    }\n",
       "</style>\n",
       "<table border=\"1\" class=\"dataframe\">\n",
       "  <thead>\n",
       "    <tr style=\"text-align: right;\">\n",
       "      <th></th>\n",
       "      <th>id</th>\n",
       "      <th>name</th>\n",
       "      <th>category</th>\n",
       "      <th>address</th>\n",
       "      <th>district</th>\n",
       "      <th>hours</th>\n",
       "      <th>rating</th>\n",
       "      <th>chain</th>\n",
       "      <th>seats</th>\n",
       "      <th>price</th>\n",
       "      <th>avg_bill</th>\n",
       "      <th>middle_avg_bill</th>\n",
       "      <th>middle_coffee_cup</th>\n",
       "    </tr>\n",
       "  </thead>\n",
       "  <tbody>\n",
       "    <tr>\n",
       "      <th>0</th>\n",
       "      <td>0c3e3439a8c64ea5bf6ecd6ca6ae19f0</td>\n",
       "      <td>WoWфли</td>\n",
       "      <td>кафе</td>\n",
       "      <td>Москва, улица Дыбенко, 7/1</td>\n",
       "      <td>Северный административный округ</td>\n",
       "      <td>ежедневно, 10:00–22:00</td>\n",
       "      <td>5.0</td>\n",
       "      <td>0</td>\n",
       "      <td>NaN</td>\n",
       "      <td>NaN</td>\n",
       "      <td>NaN</td>\n",
       "      <td>NaN</td>\n",
       "      <td>NaN</td>\n",
       "    </tr>\n",
       "    <tr>\n",
       "      <th>5</th>\n",
       "      <td>8a343546b24e4a499ad96eb7d0797a8a</td>\n",
       "      <td>Sergio Pizza</td>\n",
       "      <td>пиццерия</td>\n",
       "      <td>Москва, Ижорская улица, вл8Б</td>\n",
       "      <td>Северный административный округ</td>\n",
       "      <td>ежедневно, 10:00–23:00</td>\n",
       "      <td>4.6</td>\n",
       "      <td>0</td>\n",
       "      <td>NaN</td>\n",
       "      <td>средние</td>\n",
       "      <td>NaN</td>\n",
       "      <td>NaN</td>\n",
       "      <td>NaN</td>\n",
       "    </tr>\n",
       "    <tr>\n",
       "      <th>11</th>\n",
       "      <td>53ac103717c142f29907080db1f0ce58</td>\n",
       "      <td>Шашлык Шефф</td>\n",
       "      <td>кафе</td>\n",
       "      <td>Москва, улица Маршала Федоренко, 10с1</td>\n",
       "      <td>Северный административный округ</td>\n",
       "      <td>ежедневно, 10:00–21:00</td>\n",
       "      <td>4.9</td>\n",
       "      <td>0</td>\n",
       "      <td>NaN</td>\n",
       "      <td>NaN</td>\n",
       "      <td>NaN</td>\n",
       "      <td>NaN</td>\n",
       "      <td>NaN</td>\n",
       "    </tr>\n",
       "    <tr>\n",
       "      <th>13</th>\n",
       "      <td>aea18265b0a0415893f1e796b82568fe</td>\n",
       "      <td>Буханка</td>\n",
       "      <td>булочная</td>\n",
       "      <td>Москва, Базовская улица, 15, корп. 1</td>\n",
       "      <td>Северный административный округ</td>\n",
       "      <td>ежедневно, 08:00–22:00</td>\n",
       "      <td>4.8</td>\n",
       "      <td>1</td>\n",
       "      <td>180.0</td>\n",
       "      <td>NaN</td>\n",
       "      <td>NaN</td>\n",
       "      <td>NaN</td>\n",
       "      <td>NaN</td>\n",
       "    </tr>\n",
       "    <tr>\n",
       "      <th>19</th>\n",
       "      <td>feec6bedccae44cb877d99c13f9aa5d7</td>\n",
       "      <td>Пекарня</td>\n",
       "      <td>булочная</td>\n",
       "      <td>Москва, Ижорский проезд, 5</td>\n",
       "      <td>Северный административный округ</td>\n",
       "      <td>ежедневно, круглосуточно</td>\n",
       "      <td>4.4</td>\n",
       "      <td>1</td>\n",
       "      <td>NaN</td>\n",
       "      <td>NaN</td>\n",
       "      <td>NaN</td>\n",
       "      <td>NaN</td>\n",
       "      <td>NaN</td>\n",
       "    </tr>\n",
       "  </tbody>\n",
       "</table>\n",
       "</div>"
      ],
      "text/plain": [
       "                                  id          name  category  \\\n",
       "0   0c3e3439a8c64ea5bf6ecd6ca6ae19f0        WoWфли      кафе   \n",
       "5   8a343546b24e4a499ad96eb7d0797a8a  Sergio Pizza  пиццерия   \n",
       "11  53ac103717c142f29907080db1f0ce58   Шашлык Шефф      кафе   \n",
       "13  aea18265b0a0415893f1e796b82568fe       Буханка  булочная   \n",
       "19  feec6bedccae44cb877d99c13f9aa5d7       Пекарня  булочная   \n",
       "\n",
       "                                  address                         district  \\\n",
       "0              Москва, улица Дыбенко, 7/1  Северный административный округ   \n",
       "5            Москва, Ижорская улица, вл8Б  Северный административный округ   \n",
       "11  Москва, улица Маршала Федоренко, 10с1  Северный административный округ   \n",
       "13   Москва, Базовская улица, 15, корп. 1  Северный административный округ   \n",
       "19             Москва, Ижорский проезд, 5  Северный административный округ   \n",
       "\n",
       "                       hours  rating  chain  seats    price avg_bill  \\\n",
       "0     ежедневно, 10:00–22:00     5.0      0    NaN      NaN      NaN   \n",
       "5     ежедневно, 10:00–23:00     4.6      0    NaN  средние      NaN   \n",
       "11    ежедневно, 10:00–21:00     4.9      0    NaN      NaN      NaN   \n",
       "13    ежедневно, 08:00–22:00     4.8      1  180.0      NaN      NaN   \n",
       "19  ежедневно, круглосуточно     4.4      1    NaN      NaN      NaN   \n",
       "\n",
       "    middle_avg_bill  middle_coffee_cup  \n",
       "0               NaN                NaN  \n",
       "5               NaN                NaN  \n",
       "11              NaN                NaN  \n",
       "13              NaN                NaN  \n",
       "19              NaN                NaN  "
      ]
     },
     "metadata": {},
     "output_type": "display_data"
    }
   ],
   "source": [
    "# Изучение данных с пропущенными значениями (например, для 'avg_bill')\n",
    "missing_avg_bill = df[df['avg_bill'].isnull()]\n",
    "display(\"Примеры строк с пропущенными значениями в столбце 'avg_bill'\", missing_avg_bill.head()) # Первые 5 строк"
   ]
  },
  {
   "cell_type": "markdown",
   "id": "5934d476",
   "metadata": {},
   "source": [
    "## 2.1  Промежуточный вывод:\n",
    "Столбцы в датафрейме содержат пропуски:\n",
    "- hours - 536 (6%)\n",
    "- seats - 3611 (43%)\n",
    "- price - 5091 (60%)\n",
    "- avg_bill - 4590 (55%)\n",
    "- middle_avg_bill - 5257 (62%)\n",
    "- middle_coffee_cup - 7871 (93%)\n",
    "- Анализ примеров строк с пропущенными значениями в столбцах seats, price, avg_bill позволяет предположить, что пропуски, скорее всего, связаны с небольшим размером заведений, особенностями сбора данных и отсутствием обязательного требования указывать необходимую информацию. Эти пропуски не случайны и несут в себе определенную информацию о характере заведений. Поэтому, считаю что не надо заполнять или удалять пропуки. Необходимо тщательно оценить возможные последствия для дальнейшего анализа."
   ]
  },
  {
   "cell_type": "markdown",
   "id": "d541c1a0",
   "metadata": {},
   "source": [
    "Проверяем данные на явные и неявные дубликаты, например поля с названием и адресом заведения. Для оптимизации проверки нормализуем данные в текстовых столбцах, например с названием заведения."
   ]
  },
  {
   "cell_type": "code",
   "execution_count": 23,
   "id": "6da50819",
   "metadata": {},
   "outputs": [
    {
     "data": {
      "text/plain": [
       "0"
      ]
     },
     "execution_count": 23,
     "metadata": {},
     "output_type": "execute_result"
    }
   ],
   "source": [
    "# Проверяем явные дубликаты в датафрейме df\n",
    "df.duplicated().sum() "
   ]
  },
  {
   "cell_type": "markdown",
   "id": "2f6747dc",
   "metadata": {},
   "source": [
    "Явные дубликаты отсутствуют"
   ]
  },
  {
   "cell_type": "code",
   "execution_count": 24,
   "id": "06eba1f0",
   "metadata": {},
   "outputs": [],
   "source": [
    "# Нормализуем столбцы name и address, а именно приведем к нижнему регистру\n",
    "df[['name', 'address']] = df[['name', 'address']].apply(lambda x: x.str.lower())"
   ]
  },
  {
   "cell_type": "code",
   "execution_count": 25,
   "id": "b8bf1c70",
   "metadata": {},
   "outputs": [
    {
     "data": {
      "text/plain": [
       "4"
      ]
     },
     "execution_count": 25,
     "metadata": {},
     "output_type": "execute_result"
    }
   ],
   "source": [
    "# Проверяем неявные дубликаты в разрезе с названием и адресом заведения\n",
    "df[['name', 'address']].duplicated().sum()"
   ]
  },
  {
   "cell_type": "code",
   "execution_count": 26,
   "id": "1e99156e",
   "metadata": {},
   "outputs": [],
   "source": [
    "# Удаляем неявные дубликаты, сохраняя данные в новый датафрейм\n",
    "df_new = df.drop_duplicates(subset=['name', 'address'], keep = 'first')"
   ]
  },
  {
   "cell_type": "code",
   "execution_count": 27,
   "id": "144cce65",
   "metadata": {},
   "outputs": [
    {
     "name": "stdout",
     "output_type": "stream",
     "text": [
      "<class 'pandas.core.frame.DataFrame'>\n",
      "Int64Index: 8402 entries, 0 to 8405\n",
      "Data columns (total 13 columns):\n",
      " #   Column             Non-Null Count  Dtype  \n",
      "---  ------             --------------  -----  \n",
      " 0   id                 8402 non-null   object \n",
      " 1   name               8402 non-null   object \n",
      " 2   category           8402 non-null   object \n",
      " 3   address            8402 non-null   object \n",
      " 4   district           8402 non-null   object \n",
      " 5   hours              7867 non-null   object \n",
      " 6   rating             8402 non-null   float64\n",
      " 7   chain              8402 non-null   int64  \n",
      " 8   seats              4792 non-null   float64\n",
      " 9   price              3315 non-null   object \n",
      " 10  avg_bill           3816 non-null   object \n",
      " 11  middle_avg_bill    3149 non-null   float64\n",
      " 12  middle_coffee_cup  535 non-null    float64\n",
      "dtypes: float64(4), int64(1), object(8)\n",
      "memory usage: 919.0+ KB\n"
     ]
    }
   ],
   "source": [
    "# Выводим информацию о новом датафрейме\n",
    "df_new.info() "
   ]
  },
  {
   "cell_type": "markdown",
   "id": "71a16530",
   "metadata": {},
   "source": [
    "Для дальнейшей работы создадим столбец is_24_7 с обозначением того, что заведение работает ежедневно и круглосуточно, то есть 24/7:\n",
    "- логическое значение True — если заведение работает ежедневно и круглосуточно;\n",
    "- логическое значение False — в противоположном случае."
   ]
  },
  {
   "cell_type": "code",
   "execution_count": 28,
   "id": "5d3580b9",
   "metadata": {},
   "outputs": [],
   "source": [
    "# Определяем функцию (create_24_7), которая проверяет, указывает ли строка на круглосуточную работу. \n",
    "# Применяем эту функцию к каждому значению в hours столбце.\n",
    "df_new = df_new.copy() \n",
    "\n",
    "def create_24_7(hours):\n",
    "    if isinstance(hours, str):\n",
    "        hours = hours.lower()\n",
    "        if 'ежедневно' in hours and 'круглосуточно' in hours:\n",
    "            return True\n",
    "    return False\n",
    "# Создаём новый столбец (is_24_7), в котором хранятся результаты (True или False) запуска функции.\n",
    "df_new['is_24_7'] = df_new['hours'].apply(create_24_7)"
   ]
  },
  {
   "cell_type": "code",
   "execution_count": 29,
   "id": "fe0f7b5a",
   "metadata": {},
   "outputs": [
    {
     "name": "stdout",
     "output_type": "stream",
     "text": [
      "<class 'pandas.core.frame.DataFrame'>\n",
      "Int64Index: 8402 entries, 0 to 8405\n",
      "Data columns (total 14 columns):\n",
      " #   Column             Non-Null Count  Dtype  \n",
      "---  ------             --------------  -----  \n",
      " 0   id                 8402 non-null   object \n",
      " 1   name               8402 non-null   object \n",
      " 2   category           8402 non-null   object \n",
      " 3   address            8402 non-null   object \n",
      " 4   district           8402 non-null   object \n",
      " 5   hours              7867 non-null   object \n",
      " 6   rating             8402 non-null   float64\n",
      " 7   chain              8402 non-null   int64  \n",
      " 8   seats              4792 non-null   float64\n",
      " 9   price              3315 non-null   object \n",
      " 10  avg_bill           3816 non-null   object \n",
      " 11  middle_avg_bill    3149 non-null   float64\n",
      " 12  middle_coffee_cup  535 non-null    float64\n",
      " 13  is_24_7            8402 non-null   bool   \n",
      "dtypes: bool(1), float64(4), int64(1), object(8)\n",
      "memory usage: 927.2+ KB\n"
     ]
    }
   ],
   "source": [
    "# Выводим информацию о датафрейме\n",
    "df_new.info() "
   ]
  },
  {
   "cell_type": "code",
   "execution_count": 30,
   "id": "5c54324f",
   "metadata": {},
   "outputs": [
    {
     "data": {
      "text/plain": [
       "array([False,  True])"
      ]
     },
     "execution_count": 30,
     "metadata": {},
     "output_type": "execute_result"
    }
   ],
   "source": [
    "# Выводим уникальные значения столбца 'is_24_7'\n",
    "df_new['is_24_7'].unique()"
   ]
  },
  {
   "cell_type": "code",
   "execution_count": 31,
   "id": "646efba3",
   "metadata": {},
   "outputs": [
    {
     "data": {
      "text/plain": [
       "False    7672\n",
       "True      730\n",
       "Name: is_24_7, dtype: int64"
      ]
     },
     "execution_count": 31,
     "metadata": {},
     "output_type": "execute_result"
    }
   ],
   "source": [
    "# Выводим распределение значений столбца 'is_24_7'\n",
    "df_new['is_24_7'].value_counts()"
   ]
  },
  {
   "cell_type": "code",
   "execution_count": 32,
   "id": "fd7d715d",
   "metadata": {},
   "outputs": [
    {
     "data": {
      "text/html": [
       "<div>\n",
       "<style scoped>\n",
       "    .dataframe tbody tr th:only-of-type {\n",
       "        vertical-align: middle;\n",
       "    }\n",
       "\n",
       "    .dataframe tbody tr th {\n",
       "        vertical-align: top;\n",
       "    }\n",
       "\n",
       "    .dataframe thead th {\n",
       "        text-align: right;\n",
       "    }\n",
       "</style>\n",
       "<table border=\"1\" class=\"dataframe\">\n",
       "  <thead>\n",
       "    <tr style=\"text-align: right;\">\n",
       "      <th></th>\n",
       "      <th>id</th>\n",
       "      <th>name</th>\n",
       "      <th>category</th>\n",
       "      <th>address</th>\n",
       "      <th>district</th>\n",
       "      <th>hours</th>\n",
       "      <th>rating</th>\n",
       "      <th>chain</th>\n",
       "      <th>seats</th>\n",
       "      <th>price</th>\n",
       "      <th>avg_bill</th>\n",
       "      <th>middle_avg_bill</th>\n",
       "      <th>middle_coffee_cup</th>\n",
       "      <th>is_24_7</th>\n",
       "    </tr>\n",
       "  </thead>\n",
       "  <tbody>\n",
       "    <tr>\n",
       "      <th>0</th>\n",
       "      <td>0c3e3439a8c64ea5bf6ecd6ca6ae19f0</td>\n",
       "      <td>wowфли</td>\n",
       "      <td>кафе</td>\n",
       "      <td>москва, улица дыбенко, 7/1</td>\n",
       "      <td>Северный административный округ</td>\n",
       "      <td>ежедневно, 10:00–22:00</td>\n",
       "      <td>5.0</td>\n",
       "      <td>0</td>\n",
       "      <td>NaN</td>\n",
       "      <td>NaN</td>\n",
       "      <td>NaN</td>\n",
       "      <td>NaN</td>\n",
       "      <td>NaN</td>\n",
       "      <td>False</td>\n",
       "    </tr>\n",
       "    <tr>\n",
       "      <th>1</th>\n",
       "      <td>045780ada3474c57a2112e505d74b633</td>\n",
       "      <td>четыре комнаты</td>\n",
       "      <td>ресторан</td>\n",
       "      <td>москва, улица дыбенко, 36, корп. 1</td>\n",
       "      <td>Северный административный округ</td>\n",
       "      <td>ежедневно, 10:00–22:00</td>\n",
       "      <td>4.5</td>\n",
       "      <td>0</td>\n",
       "      <td>4.0</td>\n",
       "      <td>выше среднего</td>\n",
       "      <td>Средний счёт:1500–1600 ₽</td>\n",
       "      <td>1550.0</td>\n",
       "      <td>NaN</td>\n",
       "      <td>False</td>\n",
       "    </tr>\n",
       "    <tr>\n",
       "      <th>2</th>\n",
       "      <td>1070b6b59144425896c65889347fcff6</td>\n",
       "      <td>хазри</td>\n",
       "      <td>кафе</td>\n",
       "      <td>москва, клязьминская улица, 15</td>\n",
       "      <td>Северный административный округ</td>\n",
       "      <td>пн-чт 11:00–02:00; пт,сб 11:00–05:00; вс 11:00...</td>\n",
       "      <td>4.6</td>\n",
       "      <td>0</td>\n",
       "      <td>45.0</td>\n",
       "      <td>средние</td>\n",
       "      <td>Средний счёт:от 1000 ₽</td>\n",
       "      <td>1000.0</td>\n",
       "      <td>NaN</td>\n",
       "      <td>False</td>\n",
       "    </tr>\n",
       "    <tr>\n",
       "      <th>3</th>\n",
       "      <td>03ac7cd772104f65b58b349dc59f03ee</td>\n",
       "      <td>dormouse coffee shop</td>\n",
       "      <td>кофейня</td>\n",
       "      <td>москва, улица маршала федоренко, 12</td>\n",
       "      <td>Северный административный округ</td>\n",
       "      <td>ежедневно, 09:00–22:00</td>\n",
       "      <td>5.0</td>\n",
       "      <td>0</td>\n",
       "      <td>NaN</td>\n",
       "      <td>NaN</td>\n",
       "      <td>Цена чашки капучино:155–185 ₽</td>\n",
       "      <td>NaN</td>\n",
       "      <td>170.0</td>\n",
       "      <td>False</td>\n",
       "    </tr>\n",
       "    <tr>\n",
       "      <th>4</th>\n",
       "      <td>a163aada139c4c7f87b0b1c0b466a50f</td>\n",
       "      <td>иль марко</td>\n",
       "      <td>пиццерия</td>\n",
       "      <td>москва, правобережная улица, 1б</td>\n",
       "      <td>Северный административный округ</td>\n",
       "      <td>ежедневно, 10:00–22:00</td>\n",
       "      <td>5.0</td>\n",
       "      <td>1</td>\n",
       "      <td>148.0</td>\n",
       "      <td>средние</td>\n",
       "      <td>Средний счёт:400–600 ₽</td>\n",
       "      <td>500.0</td>\n",
       "      <td>NaN</td>\n",
       "      <td>False</td>\n",
       "    </tr>\n",
       "  </tbody>\n",
       "</table>\n",
       "</div>"
      ],
      "text/plain": [
       "                                 id                  name  category  \\\n",
       "0  0c3e3439a8c64ea5bf6ecd6ca6ae19f0                wowфли      кафе   \n",
       "1  045780ada3474c57a2112e505d74b633        четыре комнаты  ресторан   \n",
       "2  1070b6b59144425896c65889347fcff6                 хазри      кафе   \n",
       "3  03ac7cd772104f65b58b349dc59f03ee  dormouse coffee shop   кофейня   \n",
       "4  a163aada139c4c7f87b0b1c0b466a50f             иль марко  пиццерия   \n",
       "\n",
       "                               address                         district  \\\n",
       "0           москва, улица дыбенко, 7/1  Северный административный округ   \n",
       "1   москва, улица дыбенко, 36, корп. 1  Северный административный округ   \n",
       "2       москва, клязьминская улица, 15  Северный административный округ   \n",
       "3  москва, улица маршала федоренко, 12  Северный административный округ   \n",
       "4      москва, правобережная улица, 1б  Северный административный округ   \n",
       "\n",
       "                                               hours  rating  chain  seats  \\\n",
       "0                             ежедневно, 10:00–22:00     5.0      0    NaN   \n",
       "1                             ежедневно, 10:00–22:00     4.5      0    4.0   \n",
       "2  пн-чт 11:00–02:00; пт,сб 11:00–05:00; вс 11:00...     4.6      0   45.0   \n",
       "3                             ежедневно, 09:00–22:00     5.0      0    NaN   \n",
       "4                             ежедневно, 10:00–22:00     5.0      1  148.0   \n",
       "\n",
       "           price                       avg_bill  middle_avg_bill  \\\n",
       "0            NaN                            NaN              NaN   \n",
       "1  выше среднего       Средний счёт:1500–1600 ₽           1550.0   \n",
       "2        средние         Средний счёт:от 1000 ₽           1000.0   \n",
       "3            NaN  Цена чашки капучино:155–185 ₽              NaN   \n",
       "4        средние         Средний счёт:400–600 ₽            500.0   \n",
       "\n",
       "   middle_coffee_cup  is_24_7  \n",
       "0                NaN    False  \n",
       "1                NaN    False  \n",
       "2                NaN    False  \n",
       "3              170.0    False  \n",
       "4                NaN    False  "
      ]
     },
     "execution_count": 32,
     "metadata": {},
     "output_type": "execute_result"
    }
   ],
   "source": [
    "# Выводим первые строки датафрейма df_new на экран\n",
    "df_new.head() "
   ]
  },
  {
   "cell_type": "markdown",
   "id": "739a042e",
   "metadata": {},
   "source": [
    "## 2.2  Промежуточный вывод\n",
    "- Проверили данные на явные и неявные дубликаты. Явных дубликатов не оказалось.\n",
    "- Неявные дубликаты проверили в разрезе с названием и адресом заведения. Перед этим привели данные столбцы к нижнему регистру.\n",
    "- Удалили 4 неявных дубликата.\n",
    "- Создали столбец is_24_7 с обозначением того, что заведение работает ежедневно и круглосуточно, то есть 24/7.\n",
    "- Количество заведений, которые работают ежедневно и круглосуточно - 730. Это относительно небольшая часть по отношению ко всем данным."
   ]
  },
  {
   "cell_type": "markdown",
   "id": "bbdd9d5e",
   "metadata": {},
   "source": [
    "## 3  3. Исследовательский анализ данных\n",
    "Проведем исследовательский анализ исходных данных."
   ]
  },
  {
   "cell_type": "markdown",
   "id": "0d2265bc",
   "metadata": {},
   "source": [
    "### 3.1  Задача 1\n",
    "Какие категории заведений представлены в данных? Исследуем количество объектов общественного питания по каждой категории. Результат сопроводим подходящей визуализацией."
   ]
  },
  {
   "cell_type": "code",
   "execution_count": 33,
   "id": "8e4088a7",
   "metadata": {},
   "outputs": [
    {
     "data": {
      "text/plain": [
       "кафе               2376\n",
       "ресторан           2042\n",
       "кофейня            1413\n",
       "бар,паб             764\n",
       "пиццерия            633\n",
       "быстрое питание     603\n",
       "столовая            315\n",
       "булочная            256\n",
       "Name: category, dtype: int64"
      ]
     },
     "execution_count": 33,
     "metadata": {},
     "output_type": "execute_result"
    }
   ],
   "source": [
    "df_new['category'].value_counts() "
   ]
  },
  {
   "cell_type": "code",
   "execution_count": 34,
   "id": "15568582",
   "metadata": {},
   "outputs": [
    {
     "data": {
      "text/plain": [
       "'Доля каждой категории (%):'"
      ]
     },
     "metadata": {},
     "output_type": "display_data"
    },
    {
     "data": {
      "text/plain": [
       "кафе               28.278981\n",
       "ресторан           24.303737\n",
       "кофейня            16.817424\n",
       "бар,паб             9.093073\n",
       "пиццерия            7.533920\n",
       "быстрое питание     7.176863\n",
       "столовая            3.749107\n",
       "булочная            3.046894\n",
       "Name: category, dtype: float64"
      ]
     },
     "metadata": {},
     "output_type": "display_data"
    }
   ],
   "source": [
    "category_counts = df_new['category'].value_counts(normalize=True) * 100\n",
    "display(\"Доля каждой категории (%):\", category_counts)"
   ]
  },
  {
   "cell_type": "code",
   "execution_count": 35,
   "id": "ab680c62",
   "metadata": {},
   "outputs": [
    {
     "data": {
      "image/png": "[encoded data removed]",
      "text/plain": [
       "<Figure size 864x432 with 1 Axes>"
      ]
     },
     "metadata": {
      "needs_background": "light"
     },
     "output_type": "display_data"
    }
   ],
   "source": [
    "plt.figure(figsize=(12, 6))\n",
    "\n",
    "# Строим столбчатую диаграмму с помощью pandas через plot(kind='bar')\n",
    "df_new['category'].value_counts().plot(\n",
    "               kind='bar', # Тип графика - столбчатая диаграмма\n",
    "               rot=0, # Градус вращения подписи по оси Х\n",
    "               legend=False, # Выключаем легенду\n",
    "               title=f'Количество объектов общественного питания по каждой категории'\n",
    ")\n",
    "\n",
    "# Настраиваем оформление графика\n",
    "plt.xlabel('Категория')\n",
    "plt.ylabel('Количество')\n",
    "# Добавляем сетку графика\n",
    "plt.grid()\n",
    "\n",
    "# Выводим график\n",
    "plt.show() "
   ]
  },
  {
   "cell_type": "markdown",
   "id": "bb5ee267",
   "metadata": {},
   "source": [
    "### 3.2  Вывод:\n",
    "- Кафе (2376) и рестораны (2042) являются наиболее распространенными типами заведений в нашем наборе данных и вместе составляют значительную часть всех заведений.\n",
    "- Кофейни (1413) составляют значительную часть предприятий общественного питания, что говорит о сильной кофейной культуре в регионе.\n",
    "- Столовые (315) и булочные (256) предлагают более традиционные или бюджетные варианты питания, хотя их количество значительно меньше, чем кафе и ресторанов."
   ]
  },
  {
   "cell_type": "markdown",
   "id": "ba117d14",
   "metadata": {},
   "source": [
    "### 3.3  Задача 2\n",
    "Какие административные районы Москвы присутствуют в данных? Исследуем распределение количества заведений по административным районам Москвы, а также отдельно распределение заведений каждой категории в Центральном административном округе Москвы."
   ]
  },
  {
   "cell_type": "code",
   "execution_count": 36,
   "id": "d2c672a1",
   "metadata": {},
   "outputs": [
    {
     "data": {
      "text/plain": [
       "Центральный административный округ         2242\n",
       "Северный административный округ             898\n",
       "Южный административный округ                892\n",
       "Северо-Восточный административный округ     890\n",
       "Западный административный округ             850\n",
       "Восточный административный округ            798\n",
       "Юго-Восточный административный округ        714\n",
       "Юго-Западный административный округ         709\n",
       "Северо-Западный административный округ      409\n",
       "Name: district, dtype: int64"
      ]
     },
     "execution_count": 36,
     "metadata": {},
     "output_type": "execute_result"
    }
   ],
   "source": [
    "# Выводим количество заведений по административным районам Москвы\n",
    "df_new['district'].value_counts()"
   ]
  },
  {
   "cell_type": "code",
   "execution_count": 37,
   "id": "99fac1cc",
   "metadata": {},
   "outputs": [
    {
     "data": {
      "text/plain": [
       "'Доля по администратиным округам (%):'"
      ]
     },
     "metadata": {},
     "output_type": "display_data"
    },
    {
     "data": {
      "text/plain": [
       "Центральный административный округ         26.684123\n",
       "Северный административный округ            10.687931\n",
       "Южный административный округ               10.616520\n",
       "Северо-Восточный административный округ    10.592716\n",
       "Западный административный округ            10.116639\n",
       "Восточный административный округ            9.497739\n",
       "Юго-Восточный административный округ        8.497977\n",
       "Юго-Западный административный округ         8.438467\n",
       "Северо-Западный административный округ      4.867889\n",
       "Name: district, dtype: float64"
      ]
     },
     "metadata": {},
     "output_type": "display_data"
    }
   ],
   "source": [
    "district_counts = df_new['district'].value_counts(normalize=True) * 100\n",
    "display(\"Доля по администратиным округам (%):\", district_counts)"
   ]
  },
  {
   "cell_type": "code",
   "execution_count": 38,
   "id": "30532492",
   "metadata": {},
   "outputs": [
    {
     "data": {
      "image/png": "[encoded data removed]",
      "text/plain": [
       "<Figure size 864x432 with 1 Axes>"
      ]
     },
     "metadata": {
      "needs_background": "light"
     },
     "output_type": "display_data"
    }
   ],
   "source": [
    "plt.figure(figsize=(12, 6))\n",
    "\n",
    "# Строим горизонтальную столбчатую диаграмму с помощью pandas через plot(kind='barh')\n",
    "df_new['district'].value_counts().sort_values(ascending=True).plot(\n",
    "               kind='barh', # Тип графика - горизонтальная столбчатая диаграмма\n",
    "               rot=0, # Градус вращения подписи по оси Х\n",
    "               legend=False, # Выключаем легенду\n",
    "               title=f'Количество объектов общественного питания по административным районам г. Москвы'\n",
    ")\n",
    "\n",
    "# Настраиваем оформление графика\n",
    "plt.xlabel('Количество заведений')\n",
    "plt.ylabel('Административный район')\n",
    "# Добавляем сетку графика\n",
    "plt.grid()\n",
    "\n",
    "# Выводим график\n",
    "plt.show() "
   ]
  },
  {
   "cell_type": "code",
   "execution_count": 39,
   "id": "8096eaaa",
   "metadata": {},
   "outputs": [
    {
     "data": {
      "text/plain": [
       "ресторан           670\n",
       "кафе               464\n",
       "кофейня            428\n",
       "бар,паб            364\n",
       "пиццерия           113\n",
       "быстрое питание     87\n",
       "столовая            66\n",
       "булочная            50\n",
       "Name: category, dtype: int64"
      ]
     },
     "execution_count": 39,
     "metadata": {},
     "output_type": "execute_result"
    }
   ],
   "source": [
    "# Выводим количество заведений по категориям в Центральном административном округе Москвы\n",
    "central_district_data = df_new[df_new['district'] == 'Центральный административный округ']\n",
    "central_district_data['category'].value_counts()"
   ]
  },
  {
   "cell_type": "code",
   "execution_count": 40,
   "id": "2e4c72bc",
   "metadata": {},
   "outputs": [
    {
     "data": {
      "image/png": "[encoded data removed]",
      "text/plain": [
       "<Figure size 864x432 with 1 Axes>"
      ]
     },
     "metadata": {
      "needs_background": "light"
     },
     "output_type": "display_data"
    }
   ],
   "source": [
    "plt.figure(figsize=(12, 6))\n",
    "\n",
    "# Строим столбчатую диаграмму с помощью pandas через plot(kind='bar')\n",
    "central_district_data = df_new[df_new['district'] == 'Центральный административный округ']\n",
    "central_district_data['category'].value_counts().plot(\n",
    "               kind='bar', # Тип графика - столбчатая диаграмма\n",
    "               rot=0, # Градус вращения подписи по оси Х\n",
    "               legend=False, # Выключаем легенду\n",
    "               title=f'Распределение заведений каждой категории в Центральном административном округе Москвы'\n",
    ")\n",
    "\n",
    "# Настраиваем оформление графика\n",
    "plt.xlabel('Категория')\n",
    "plt.ylabel('Количество')\n",
    "# Добавляем сетку графика\n",
    "plt.grid()\n",
    "\n",
    "# Выводим график\n",
    "plt.show() "
   ]
  },
  {
   "cell_type": "markdown",
   "id": "ec1c5132",
   "metadata": {},
   "source": [
    "## 3.4  Вывод\n",
    "- В Центральном административном округе (2242 заведения) значительно выше концентрация ресторанов и кафе по сравнению со всеми остальными округами. Это говорит о том, что он является крупным центром общественного питания в городе.\n",
    "- В других административных районах (Северном, Южном, Северо-Восточном, Западном, Восточном, Юго-Восточном, Юго-Западном) количество заведений примерно одинаковое и составляет от 700 до 900.\n",
    "- В Северо-Западном административном округе (409 учреждений) заметно меньше учреждений, чем в других округах (за исключением ЦАО).\n",
    "- Рестораны (670) являются самой распространенной категорией в Центральном административном округе. Вероятно, это связано с тем, что ЦАО является главным деловым, туристическим и развлекательным центром города\n",
    "- Кафе (464) и кофейни (428) также широко представлены, что подтверждает идею о том, что в городе в целом процветает культура кофеен.\n",
    "- Баланс между повседневными и быстрыми вариантами: бары/пабы (364), пиццерии (113) и заведения быстрого питания (87)."
   ]
  },
  {
   "cell_type": "markdown",
   "id": "1900193e",
   "metadata": {},
   "source": [
    "### 3.5  Задача 3\n",
    "Изучим соотношение сетевых и несетевых заведений в целом по всем данным и в разрезе категорий заведения. Каких заведений больше — сетевых или несетевых? Какие категории заведений чаще являются сетевыми?"
   ]
  },
  {
   "cell_type": "code",
   "execution_count": 41,
   "id": "01ed53a7",
   "metadata": {},
   "outputs": [
    {
     "data": {
      "text/plain": [
       "chain  category       \n",
       "0      кафе               1597\n",
       "       ресторан           1313\n",
       "       кофейня             693\n",
       "       бар,паб             596\n",
       "       быстрое питание     371\n",
       "       пиццерия            303\n",
       "       столовая            227\n",
       "       булочная             99\n",
       "1      кафе                779\n",
       "       ресторан            729\n",
       "       кофейня             720\n",
       "       пиццерия            330\n",
       "       быстрое питание     232\n",
       "       бар,паб             168\n",
       "       булочная            157\n",
       "       столовая             88\n",
       "Name: category, dtype: int64"
      ]
     },
     "metadata": {},
     "output_type": "display_data"
    }
   ],
   "source": [
    "# Выведем количество заведений в разрезе сетевых (1) и несетевых (0) по категориям\n",
    "category_counts_by_chain = df_new.groupby('chain')['category'].value_counts()\n",
    "display (category_counts_by_chain)"
   ]
  },
  {
   "cell_type": "code",
   "execution_count": 42,
   "id": "e58cbe92",
   "metadata": {},
   "outputs": [
    {
     "data": {
      "text/plain": [
       "chain  category       \n",
       "0      кафе               0.307174\n",
       "       ресторан           0.252549\n",
       "       кофейня            0.133295\n",
       "       бар,паб            0.114637\n",
       "       быстрое питание    0.071360\n",
       "       пиццерия           0.058280\n",
       "       столовая           0.043662\n",
       "       булочная           0.019042\n",
       "1      кафе               0.243209\n",
       "       ресторан           0.227599\n",
       "       кофейня            0.224789\n",
       "       пиццерия           0.103028\n",
       "       быстрое питание    0.072432\n",
       "       бар,паб            0.052451\n",
       "       булочная           0.049017\n",
       "       столовая           0.027474\n",
       "dtype: float64"
      ]
     },
     "metadata": {},
     "output_type": "display_data"
    }
   ],
   "source": [
    "# Выводим общее количество сетевых и несетевых заведений\n",
    "# Считаем долю каждой категории в рамках каждого типа: сетевого или несетевого заведения\n",
    "chain_totals = df_new['chain'].value_counts()\n",
    "category_proportions = category_counts_by_chain.div(chain_totals, level='chain')\n",
    "display (category_proportions)"
   ]
  },
  {
   "cell_type": "code",
   "execution_count": 43,
   "id": "e367319d",
   "metadata": {},
   "outputs": [
    {
     "data": {
      "image/png": "[encoded data removed]",
      "text/plain": [
       "<Figure size 864x432 with 1 Axes>"
      ]
     },
     "metadata": {
      "needs_background": "light"
     },
     "output_type": "display_data"
    }
   ],
   "source": [
    "category_counts_by_chain = df_new.groupby('chain')['category'].value_counts()\n",
    "chain_totals = df_new['chain'].value_counts()\n",
    "category_proportions = category_counts_by_chain.div(chain_totals, level='chain')\n",
    "category_proportions.unstack(level='chain')\n",
    "category_proportions_unstacked = category_proportions.unstack(level='chain')\n",
    "\n",
    "# Строим столбчатую диаграмму с помощью pandas через plot(kind='bar')\n",
    "category_proportions_unstacked.plot(kind='bar', figsize=(12, 6))\n",
    "plt.title('Доли сетевых и несетевых заведений по категориям')\n",
    "plt.xlabel('Категория заведения')\n",
    "plt.ylabel('Доли')\n",
    "plt.xticks(rotation=45, ha='right')\n",
    "plt.legend(title='0=Несетевое, 1=Сетевое')\n",
    "plt.tight_layout()\n",
    "plt.show()"
   ]
  },
  {
   "cell_type": "markdown",
   "id": "2294b7f1",
   "metadata": {},
   "source": [
    "### 3.6  Вывод\n",
    "- Кафе играют ключевую роль: кафе составляют наибольшую долю в несетевых заведениях (30%) и сетевых заведениях (24%), что подчеркивает их важность для обоих типов бизнеса.\n",
    "- Рестораны также занимают высокую долю как среди несетевых заведениях (25%) и сетевых заведениях (23%).\n",
    "- Наименьшую долю занимают столовые и булочные: в сетевых и в несетвых заведениях менее 5%."
   ]
  },
  {
   "cell_type": "code",
   "execution_count": 44,
   "id": "c0fcce2b",
   "metadata": {},
   "outputs": [
    {
     "data": {
      "text/html": [
       "<div>\n",
       "<style scoped>\n",
       "    .dataframe tbody tr th:only-of-type {\n",
       "        vertical-align: middle;\n",
       "    }\n",
       "\n",
       "    .dataframe tbody tr th {\n",
       "        vertical-align: top;\n",
       "    }\n",
       "\n",
       "    .dataframe thead th {\n",
       "        text-align: right;\n",
       "    }\n",
       "</style>\n",
       "<table border=\"1\" class=\"dataframe\">\n",
       "  <thead>\n",
       "    <tr style=\"text-align: right;\">\n",
       "      <th>chain</th>\n",
       "      <th>0</th>\n",
       "      <th>1</th>\n",
       "      <th>percent_chain</th>\n",
       "      <th>percent_non_chain</th>\n",
       "    </tr>\n",
       "    <tr>\n",
       "      <th>category</th>\n",
       "      <th></th>\n",
       "      <th></th>\n",
       "      <th></th>\n",
       "      <th></th>\n",
       "    </tr>\n",
       "  </thead>\n",
       "  <tbody>\n",
       "    <tr>\n",
       "      <th>кафе</th>\n",
       "      <td>1597</td>\n",
       "      <td>779</td>\n",
       "      <td>32.786195</td>\n",
       "      <td>67.213805</td>\n",
       "    </tr>\n",
       "    <tr>\n",
       "      <th>ресторан</th>\n",
       "      <td>1313</td>\n",
       "      <td>729</td>\n",
       "      <td>35.700294</td>\n",
       "      <td>64.299706</td>\n",
       "    </tr>\n",
       "    <tr>\n",
       "      <th>кофейня</th>\n",
       "      <td>693</td>\n",
       "      <td>720</td>\n",
       "      <td>50.955414</td>\n",
       "      <td>49.044586</td>\n",
       "    </tr>\n",
       "    <tr>\n",
       "      <th>пиццерия</th>\n",
       "      <td>303</td>\n",
       "      <td>330</td>\n",
       "      <td>52.132701</td>\n",
       "      <td>47.867299</td>\n",
       "    </tr>\n",
       "    <tr>\n",
       "      <th>быстрое питание</th>\n",
       "      <td>371</td>\n",
       "      <td>232</td>\n",
       "      <td>38.474295</td>\n",
       "      <td>61.525705</td>\n",
       "    </tr>\n",
       "    <tr>\n",
       "      <th>бар,паб</th>\n",
       "      <td>596</td>\n",
       "      <td>168</td>\n",
       "      <td>21.989529</td>\n",
       "      <td>78.010471</td>\n",
       "    </tr>\n",
       "    <tr>\n",
       "      <th>булочная</th>\n",
       "      <td>99</td>\n",
       "      <td>157</td>\n",
       "      <td>61.328125</td>\n",
       "      <td>38.671875</td>\n",
       "    </tr>\n",
       "    <tr>\n",
       "      <th>столовая</th>\n",
       "      <td>227</td>\n",
       "      <td>88</td>\n",
       "      <td>27.936508</td>\n",
       "      <td>72.063492</td>\n",
       "    </tr>\n",
       "  </tbody>\n",
       "</table>\n",
       "</div>"
      ],
      "text/plain": [
       "chain               0    1  percent_chain  percent_non_chain\n",
       "category                                                    \n",
       "кафе             1597  779      32.786195          67.213805\n",
       "ресторан         1313  729      35.700294          64.299706\n",
       "кофейня           693  720      50.955414          49.044586\n",
       "пиццерия          303  330      52.132701          47.867299\n",
       "быстрое питание   371  232      38.474295          61.525705\n",
       "бар,паб           596  168      21.989529          78.010471\n",
       "булочная           99  157      61.328125          38.671875\n",
       "столовая          227   88      27.936508          72.063492"
      ]
     },
     "metadata": {},
     "output_type": "display_data"
    }
   ],
   "source": [
    "# Считаем общее количество заведений каждой категории\n",
    "total_category_counts = df_new['category'].value_counts()\n",
    "\n",
    "# Группируем по категории и сетевому статусу\n",
    "category_counts_by_chain = df_new.groupby(['category', 'chain']).size().unstack(fill_value=0)\n",
    "category_counts_by_chain = category_counts_by_chain.sort_values(by=[1, 0], ascending=[False, False])\n",
    "\n",
    "# Считаем процент сетевых и несетвых заведений для каждой категории\n",
    "category_counts_by_chain['percent_chain'] = (category_counts_by_chain[1] / (category_counts_by_chain[0] + category_counts_by_chain[1])) * 100\n",
    "category_counts_by_chain['percent_non_chain'] = (category_counts_by_chain[0] / (category_counts_by_chain[0] + category_counts_by_chain[1])) * 100\n",
    "display (category_counts_by_chain)"
   ]
  },
  {
   "cell_type": "code",
   "execution_count": 45,
   "id": "b3611bd9",
   "metadata": {},
   "outputs": [
    {
     "data": {
      "image/png": "[encoded data removed]",
      "text/plain": [
       "<Figure size 864x432 with 1 Axes>"
      ]
     },
     "metadata": {
      "needs_background": "light"
     },
     "output_type": "display_data"
    }
   ],
   "source": [
    "ax = category_counts_by_chain[['percent_chain', 'percent_non_chain']].plot(kind='bar',\n",
    "                                                                             stacked=True,\n",
    "                                                                             figsize=(12, 6))\n",
    "\n",
    "\n",
    "plt.title('Доля сетевых и несетевых заведений по категориям', fontsize=14)\n",
    "plt.xlabel('Категория', fontsize=12)\n",
    "plt.ylabel('Доли', fontsize=12)\n",
    "plt.xticks(rotation=45, ha='right') \n",
    "plt.legend(['Сетевые', 'Несетевые'], loc='upper right', fontsize=10)\n",
    "plt.tight_layout()\n",
    "plt.show()"
   ]
  },
  {
   "cell_type": "markdown",
   "id": "2c63b416",
   "metadata": {},
   "source": [
    "## 3.7  Вывод\n",
    "- Все категории заведений представлены как сетевые, так и несетевые.\n",
    "- В большинстве категорий: кафе (67%), ресторан (64%), быстрое питание (62%), бар/паб (78%), столовая(72%) преобладают несетевые заведения. Это может говорить о более низком пороге входа, большей гибкости или акценте на уникальности и локальном рынке.\n",
    "- В категориях булочная (61%) и пиццерия (52%) сетевых заведений больше, чем несетевых. Это может указывать на то, что для этих категорий масштабирование и стандартизация более важны для успеха. Кофейни также демонстрируют высокую долю сетевых заведений, почти наравне с несетевыми."
   ]
  },
  {
   "cell_type": "markdown",
   "id": "11ed63b2",
   "metadata": {},
   "source": [
    "### 3.8  Задача 4\n",
    "Исследуем количество посадочных мест в заведениях. Встречаются ли в данных аномальные значения или выбросы? Если да, то с чем они могут быть связаны? Приведем для каждой категории заведений наиболее типичное для него количество посадочных мест."
   ]
  },
  {
   "cell_type": "code",
   "execution_count": 46,
   "id": "3348986a",
   "metadata": {},
   "outputs": [
    {
     "data": {
      "text/plain": [
       "'Медиана количества посадочных мест по категориям:'"
      ]
     },
     "metadata": {},
     "output_type": "display_data"
    },
    {
     "data": {
      "text/plain": [
       "category\n",
       "бар,паб            82.0\n",
       "булочная           50.0\n",
       "быстрое питание    65.0\n",
       "кафе               60.0\n",
       "кофейня            80.0\n",
       "пиццерия           55.0\n",
       "ресторан           86.0\n",
       "столовая           75.5\n",
       "Name: seats, dtype: float64"
      ]
     },
     "metadata": {},
     "output_type": "display_data"
    },
    {
     "data": {
      "image/png": "[encoded data removed]",
      "text/plain": [
       "<Figure size 864x432 with 1 Axes>"
      ]
     },
     "metadata": {
      "needs_background": "light"
     },
     "output_type": "display_data"
    }
   ],
   "source": [
    "# Вычисляем медиану количества мест по каждой категории\n",
    "median_seats_by_category = df_new.groupby('category')['seats'].median()\n",
    "\n",
    "# Выводим медианы\n",
    "display(\"Медиана количества посадочных мест по категориям:\", median_seats_by_category)\n",
    "\n",
    "# Строим boxplot (необязательно, но полезно для визуализации)\n",
    "df_new.boxplot(column='seats',\n",
    "               by='category',\n",
    "               vert=False,\n",
    "               figsize=(12, 6))\n",
    "plt.title('Распределение количества посадочных мест по категориям заведений')\n",
    "plt.xlabel('Количество посадочных мест')\n",
    "plt.ylabel('Категория заведения')\n",
    "plt.grid(True)\n",
    "plt.show()"
   ]
  },
  {
   "cell_type": "code",
   "execution_count": 47,
   "id": "b0ace09d",
   "metadata": {},
   "outputs": [
    {
     "data": {
      "image/png": "[encoded data removed]",
      "text/plain": [
       "<Figure size 864x432 with 1 Axes>"
      ]
     },
     "metadata": {
      "needs_background": "light"
     },
     "output_type": "display_data"
    }
   ],
   "source": [
    "bp = df_new.boxplot(figsize=(12, 6), column='seats', by='category', vert=False, showfliers=False)\n",
    "\n",
    "plt.title('Распределение количества посадочных мест по категориям заведений без выбросов')\n",
    "plt.xlabel('Количество посадочных мест')\n",
    "plt.ylabel('Категория заведения')\n",
    "plt.show()"
   ]
  },
  {
   "cell_type": "code",
   "execution_count": 48,
   "id": "b7584c45",
   "metadata": {},
   "outputs": [
    {
     "data": {
      "text/plain": [
       "category\n",
       "бар,паб            82.0\n",
       "булочная           50.0\n",
       "быстрое питание    65.0\n",
       "кафе               60.0\n",
       "кофейня            80.0\n",
       "пиццерия           55.0\n",
       "ресторан           86.0\n",
       "столовая           75.5\n",
       "Name: seats, dtype: float64"
      ]
     },
     "metadata": {},
     "output_type": "display_data"
    }
   ],
   "source": [
    "median_seats = df_new.groupby('category')['seats'].median()\n",
    "display(median_seats)"
   ]
  },
  {
   "cell_type": "markdown",
   "id": "09772fe7",
   "metadata": {},
   "source": [
    "### 3.9  Вывод\n",
    "- Точки, расположенные далеко справа на диаграмме размаха, указывают на заведения с необычно большим количеством посадочных мест по сравнению с другими заведениями в той же категории. Это может означать: заведение может быть большим (например, фудкорт в торговом центре, крупный ресторан, банкетный зал в ресторане, театр с обслуживанием питанием), также возможно количество мест было указано неверно, и может быть обусловленно сезонностью. Данные предоставлены за лето 2022г. А летом многие точки общепита увеличивают посадочные места, добавляя веранды на улице.\n",
    "- Без учета выбросов, усы диаграммы также уходят далеко вправо. Это может означать, что внутри каждой категории заведения могут быть различные варианты количества посадочных мест.\n",
    "- Медианное количество посадочных мест значительно варьируется в зависимости от категории заведения, что отражает различия в концепциях, целевой аудитории и бизнес-моделях.\n",
    "- Большие значения медианы у ресторанов (86,0), баров (82,0), кофеин (80,0). В этих категориях ориентированы на предоставление сидячих мест для посетителей.\n",
    "- Наименьшие значения медианы у булочных (50,0), пиццерий (55,0), кафе (60,0). Можно предположить, что заведения данных категорий нацелены преимущественно на обслуживание клиентов на вынос."
   ]
  },
  {
   "cell_type": "markdown",
   "id": "5a0fbbc7",
   "metadata": {},
   "source": [
    "### 3.10  Задача 5\n",
    "Исследуем рейтинг заведений. Визуализирум распределение средних рейтингов по категориям заведений. Сильно ли различаются усреднённые рейтинги для разных типов общепита?"
   ]
  },
  {
   "cell_type": "code",
   "execution_count": 49,
   "id": "d454d5d3",
   "metadata": {},
   "outputs": [
    {
     "data": {
      "text/plain": [
       "category\n",
       "бар,паб            4.387696\n",
       "пиццерия           4.301264\n",
       "ресторан           4.290402\n",
       "кофейня            4.277282\n",
       "булочная           4.268359\n",
       "столовая           4.211429\n",
       "кафе               4.124285\n",
       "быстрое питание    4.050249\n",
       "Name: rating, dtype: float64"
      ]
     },
     "metadata": {},
     "output_type": "display_data"
    }
   ],
   "source": [
    "# Выводим средний рейтинг по категориям заведений\n",
    "average_ratings = df_new.groupby('category')['rating'].mean().sort_values(ascending=False)\n",
    "display(average_ratings)"
   ]
  },
  {
   "cell_type": "code",
   "execution_count": 50,
   "id": "5cd2a414",
   "metadata": {},
   "outputs": [
    {
     "data": {
      "image/png": "[encoded data removed]",
      "text/plain": [
       "<Figure size 864x432 with 1 Axes>"
      ]
     },
     "metadata": {
      "needs_background": "light"
     },
     "output_type": "display_data"
    }
   ],
   "source": [
    "average_ratings = df_new.groupby('category')['rating'].mean().sort_values(ascending=True)\n",
    "plt.figure(figsize=(12, 6))\n",
    "\n",
    "# Строим столбчатую диаграмму с помощью pandas через plot(kind='bar')\n",
    "average_ratings.plot(\n",
    "               kind='barh', # Тип графика - столбчатая диаграмма\n",
    "               rot=0, # Градус вращения подписи по оси Х\n",
    "               legend=False, # Выключаем легенду\n",
    "               title=f'Средний рейтинг по категориям заведений'\n",
    ")\n",
    "\n",
    "# Настраиваем оформление графика\n",
    "plt.xlabel('Средний рейтинг')\n",
    "plt.ylabel('Категория заведений')\n",
    "# Добавляем сетку графика\n",
    "plt.grid()\n",
    "\n",
    "# Выводим график\n",
    "plt.show() "
   ]
  },
  {
   "cell_type": "markdown",
   "id": "a3227768",
   "metadata": {},
   "source": [
    "## 3.11  Вывод\n",
    "- Средние оценки по всем категориям относительно высоки и составляют примерно от 4,05 до 4,39. Это говорит о том, что в целом заведения такого типа воспринимаются положительно.\n",
    "- Средние оценки в разных категориях немного отличаются. В категориях с самыми высокими оценками («бар, паб» и «пиццерия») средние оценки заметно выше, чем в категории с самыми низкими оценками («быстрое питание»)."
   ]
  },
  {
   "cell_type": "markdown",
   "id": "0500a5d9",
   "metadata": {},
   "source": [
    "### 3.12  Задача 6\n",
    "Изучим, с какими данными показывают самую сильную корреляцию рейтинги заведений. Постром и визуализируем матрицу корреляции рейтинга заведения с разными данными: его категория, положение (административный район Москвы), статус сетевого заведения, количество мест, ценовая категория и признак, является ли заведения круглосуточным. Выберем самую сильную связь и проверим её."
   ]
  },
  {
   "cell_type": "code",
   "execution_count": 51,
   "id": "f19ead8e",
   "metadata": {},
   "outputs": [
    {
     "name": "stdout",
     "output_type": "stream",
     "text": [
      "interval columns not set, guessing: ['rating', 'seats', 'chain']\n",
      "Корреляционная матрица с коэффициентом phi_k\n"
     ]
    },
    {
     "data": {
      "text/html": [
       "<div>\n",
       "<style scoped>\n",
       "    .dataframe tbody tr th:only-of-type {\n",
       "        vertical-align: middle;\n",
       "    }\n",
       "\n",
       "    .dataframe tbody tr th {\n",
       "        vertical-align: top;\n",
       "    }\n",
       "\n",
       "    .dataframe thead th {\n",
       "        text-align: right;\n",
       "    }\n",
       "</style>\n",
       "<table border=\"1\" class=\"dataframe\">\n",
       "  <thead>\n",
       "    <tr style=\"text-align: right;\">\n",
       "      <th></th>\n",
       "      <th>rating</th>\n",
       "    </tr>\n",
       "  </thead>\n",
       "  <tbody>\n",
       "    <tr>\n",
       "      <th>price</th>\n",
       "      <td>0.220295</td>\n",
       "    </tr>\n",
       "    <tr>\n",
       "      <th>district</th>\n",
       "      <td>0.200761</td>\n",
       "    </tr>\n",
       "    <tr>\n",
       "      <th>category</th>\n",
       "      <td>0.189716</td>\n",
       "    </tr>\n",
       "    <tr>\n",
       "      <th>is_24_7</th>\n",
       "      <td>0.150365</td>\n",
       "    </tr>\n",
       "    <tr>\n",
       "      <th>chain</th>\n",
       "      <td>0.107833</td>\n",
       "    </tr>\n",
       "    <tr>\n",
       "      <th>seats</th>\n",
       "      <td>0.000000</td>\n",
       "    </tr>\n",
       "  </tbody>\n",
       "</table>\n",
       "</div>"
      ],
      "text/plain": [
       "            rating\n",
       "price     0.220295\n",
       "district  0.200761\n",
       "category  0.189716\n",
       "is_24_7   0.150365\n",
       "chain     0.107833\n",
       "seats     0.000000"
      ]
     },
     "execution_count": 51,
     "metadata": {},
     "output_type": "execute_result"
    }
   ],
   "source": [
    "# Вычисляем корреляционную матрицу с использованием phi_k\n",
    "correlation_matrix = df_new[['category', 'district', 'rating', 'seats',\n",
    "                             'chain', 'price', 'is_24_7']].phik_matrix()\n",
    "\n",
    "# Выводим результат\n",
    "print('Корреляционная матрица с коэффициентом phi_k')\n",
    "correlation_matrix.loc[correlation_matrix.index != 'rating'][['rating']].sort_values(by='rating', ascending=False) "
   ]
  },
  {
   "cell_type": "code",
   "execution_count": 52,
   "id": "76c142f1",
   "metadata": {},
   "outputs": [
    {
     "data": {
      "image/png": "[encoded data removed]",
      "text/plain": [
       "<Figure size 288x576 with 1 Axes>"
      ]
     },
     "metadata": {
      "needs_background": "light"
     },
     "output_type": "display_data"
    }
   ],
   "source": [
    "# Строим тепловую карту\n",
    "plt.figure(figsize=(4, 8))\n",
    "\n",
    "# Сохраняем матрицу корреляции признака рейтинг с другими признаками клиента\n",
    "data_heatmap = correlation_matrix.loc[correlation_matrix.index != 'rating'][['rating']].sort_values(by='rating', ascending=False)\n",
    "sns.heatmap(data_heatmap,\n",
    "            annot=True, # Отображаем численные значения в ячейках карты\n",
    "            fmt='.2f', # Форматируем значения корреляции: два знака после точки\n",
    "            cmap='coolwarm', # Устанавливаем цветовую гамму от красного (макс. значение) к синему\n",
    "            linewidths=0.5, # Форматируем линию между ячейками карты\n",
    "            cbar=False # Отключаем цветовую шкалу\n",
    "           )\n",
    "\n",
    "# Добавляем заголовок и подпись по оси Х\n",
    "plt.title('Тепловая карта коэффициента phi_k \\n для рейтинга')\n",
    "plt.xlabel('Рейтинг')\n",
    "\n",
    "# Выводим график\n",
    "plt.show() "
   ]
  },
  {
   "cell_type": "markdown",
   "id": "b50e8a35",
   "metadata": {},
   "source": [
    "## 3.13  Вывод\n",
    "- Согласно этому анализу, выявили,что показатель категории цен (0,22) имеет самую сильную корреляцию с рейтингом. Это означает, что существует взаимосвязь: чем выше цена в ресторане, тем выше рейтинг. Также рейтинг зависит от административного района (0,20).\n",
    "- Количество посадочных мест и является ли заведение сетевым или нет не влияют на рейтинг заведения."
   ]
  },
  {
   "cell_type": "code",
   "execution_count": 53,
   "id": "02d78732",
   "metadata": {},
   "outputs": [
    {
     "data": {
      "text/plain": [
       "'Средний рейтинг по ценовой категории:'"
      ]
     },
     "metadata": {},
     "output_type": "display_data"
    },
    {
     "data": {
      "text/plain": [
       "price\n",
       "высокие          4.436611\n",
       "выше среднего    4.386348\n",
       "средние          4.297874\n",
       "низкие           4.173077\n",
       "Name: rating, dtype: float64"
      ]
     },
     "metadata": {},
     "output_type": "display_data"
    },
    {
     "data": {
      "image/png": "[encoded data removed]",
      "text/plain": [
       "<Figure size 864x432 with 1 Axes>"
      ]
     },
     "metadata": {
      "needs_background": "light"
     },
     "output_type": "display_data"
    }
   ],
   "source": [
    "# Проверяем самую сильную связь по ценовой категории и смотрим средний рейтинг\n",
    "grouped_data = df_new.groupby('price')['rating'].mean().sort_values(ascending=False)\n",
    "display(\"Средний рейтинг по ценовой категории:\")\n",
    "display(grouped_data)\n",
    "    \n",
    "plt.figure(figsize=(12, 6))\n",
    "# Строим столбчатую диаграмму с помощью pandas через plot(kind='bar')\n",
    "grouped_data.plot(\n",
    "               kind='bar', # Тип графика - столбчатая диаграмма\n",
    "               rot=0, # Градус вращения подписи по оси Х\n",
    "               legend=False, # Выключаем легенду\n",
    "               title=f'Средний рейтинг по ценовой категории'\n",
    ")\n",
    "\n",
    "# Настраиваем оформление графика\n",
    "plt.xlabel('Ценовая категория')\n",
    "plt.ylabel('Средний рейтинг')\n",
    "\n",
    "# Выводим график\n",
    "plt.show() \n"
   ]
  },
  {
   "cell_type": "markdown",
   "id": "22a39eb2",
   "metadata": {},
   "source": [
    "### 3.14  Вывод\n",
    "- Согласно этому анализу, выявили,что показатель категории цен (0,22) имеет самую сильную корреляцию с рейтингом. Наблюдается общая тенденция к увеличению среднего рейтинга по мере роста ценовой категории. Заведения с «высокими» ценами имеют самый высокий средний рейтинг (4,44), а заведения с «низкими» ценами — самый низкий (4,17). Это говорит о том, что посетители в целом более довольны заведениями с более высокими ценами. Это означает, что существует взаимосвязь: чем выше цена в ресторане, тем выше рейтинг.\n",
    "- Также рейтинг зависит от административного района (0,20).\n",
    "- Количество посадочных мест и является ли заведение сетевым или нет не влияют на рейтинг заведения."
   ]
  },
  {
   "cell_type": "markdown",
   "id": "5093b5a1",
   "metadata": {},
   "source": [
    "### 3.15  Задача 7\n",
    "Сгруппируем данные по названиям заведений и найдем топ-15 популярных сетей в Москве. Для них посчитаем значения среднего рейтинга. Под популярностью понимается количество заведений этой сети в регионе. К какой категории заведений они относятся?"
   ]
  },
  {
   "cell_type": "code",
   "execution_count": 54,
   "id": "5e4903ce",
   "metadata": {},
   "outputs": [
    {
     "data": {
      "text/html": [
       "<div>\n",
       "<style scoped>\n",
       "    .dataframe tbody tr th:only-of-type {\n",
       "        vertical-align: middle;\n",
       "    }\n",
       "\n",
       "    .dataframe tbody tr th {\n",
       "        vertical-align: top;\n",
       "    }\n",
       "\n",
       "    .dataframe thead th {\n",
       "        text-align: right;\n",
       "    }\n",
       "</style>\n",
       "<table border=\"1\" class=\"dataframe\">\n",
       "  <thead>\n",
       "    <tr style=\"text-align: right;\">\n",
       "      <th></th>\n",
       "      <th>Количество заведений</th>\n",
       "      <th>Средний рейтинг</th>\n",
       "    </tr>\n",
       "  </thead>\n",
       "  <tbody>\n",
       "    <tr>\n",
       "      <th>шоколадница</th>\n",
       "      <td>120</td>\n",
       "      <td>4.177500</td>\n",
       "    </tr>\n",
       "    <tr>\n",
       "      <th>домино'с пицца</th>\n",
       "      <td>76</td>\n",
       "      <td>4.171429</td>\n",
       "    </tr>\n",
       "    <tr>\n",
       "      <th>додо пицца</th>\n",
       "      <td>74</td>\n",
       "      <td>4.286486</td>\n",
       "    </tr>\n",
       "    <tr>\n",
       "      <th>one price coffee</th>\n",
       "      <td>71</td>\n",
       "      <td>4.069444</td>\n",
       "    </tr>\n",
       "    <tr>\n",
       "      <th>яндекс лавка</th>\n",
       "      <td>69</td>\n",
       "      <td>3.872464</td>\n",
       "    </tr>\n",
       "    <tr>\n",
       "      <th>cofix</th>\n",
       "      <td>65</td>\n",
       "      <td>4.075385</td>\n",
       "    </tr>\n",
       "    <tr>\n",
       "      <th>prime</th>\n",
       "      <td>50</td>\n",
       "      <td>4.116000</td>\n",
       "    </tr>\n",
       "    <tr>\n",
       "      <th>хинкальная</th>\n",
       "      <td>44</td>\n",
       "      <td>4.322727</td>\n",
       "    </tr>\n",
       "    <tr>\n",
       "      <th>кофепорт</th>\n",
       "      <td>42</td>\n",
       "      <td>4.147619</td>\n",
       "    </tr>\n",
       "    <tr>\n",
       "      <th>кулинарная лавка братьев караваевых</th>\n",
       "      <td>39</td>\n",
       "      <td>4.394872</td>\n",
       "    </tr>\n",
       "    <tr>\n",
       "      <th>теремок</th>\n",
       "      <td>38</td>\n",
       "      <td>4.123684</td>\n",
       "    </tr>\n",
       "    <tr>\n",
       "      <th>чайхана</th>\n",
       "      <td>37</td>\n",
       "      <td>3.924324</td>\n",
       "    </tr>\n",
       "    <tr>\n",
       "      <th>cofefest</th>\n",
       "      <td>32</td>\n",
       "      <td>3.984375</td>\n",
       "    </tr>\n",
       "    <tr>\n",
       "      <th>буханка</th>\n",
       "      <td>32</td>\n",
       "      <td>4.396875</td>\n",
       "    </tr>\n",
       "    <tr>\n",
       "      <th>му-му</th>\n",
       "      <td>27</td>\n",
       "      <td>4.229630</td>\n",
       "    </tr>\n",
       "  </tbody>\n",
       "</table>\n",
       "</div>"
      ],
      "text/plain": [
       "                                     Количество заведений  Средний рейтинг\n",
       "шоколадница                                           120         4.177500\n",
       "домино'с пицца                                         76         4.171429\n",
       "додо пицца                                             74         4.286486\n",
       "one price coffee                                       71         4.069444\n",
       "яндекс лавка                                           69         3.872464\n",
       "cofix                                                  65         4.075385\n",
       "prime                                                  50         4.116000\n",
       "хинкальная                                             44         4.322727\n",
       "кофепорт                                               42         4.147619\n",
       "кулинарная лавка братьев караваевых                    39         4.394872\n",
       "теремок                                                38         4.123684\n",
       "чайхана                                                37         3.924324\n",
       "cofefest                                               32         3.984375\n",
       "буханка                                                32         4.396875\n",
       "му-му                                                  27         4.229630"
      ]
     },
     "metadata": {},
     "output_type": "display_data"
    }
   ],
   "source": [
    "# Делаем фильтрацию по сетевым заведениям\n",
    "chain_establishments = df_new[df_new['chain'] == 1]\n",
    "# Выводим количество заведений для каждого уникального наименования сети\n",
    "establishment_counts = chain_establishments['name'].value_counts()\n",
    "# Выводим топ-15\n",
    "top_15_chains = establishment_counts.head(15)\n",
    "# Присваиваем индекс и фильтруем в новом списке\n",
    "top_15_chain_names = top_15_chains.index\n",
    "top_15_data = df_new[df_new['name'].isin(top_15_chain_names)]\n",
    "# Выводим средний рейтинг по списку топ-15\n",
    "average_ratings = top_15_data.groupby('name')['rating'].mean()\n",
    "average_ratings = average_ratings.reindex(top_15_chain_names)\n",
    "# Создаем словарь с именами необходимых столбцов и выводим его на экран\n",
    "results_df = pd.DataFrame({\n",
    "    'Количество заведений': top_15_chains,\n",
    "    'Средний рейтинг': average_ratings\n",
    "})\n",
    "display(results_df)"
   ]
  },
  {
   "cell_type": "code",
   "execution_count": 55,
   "id": "8e9b1fdd",
   "metadata": {},
   "outputs": [
    {
     "data": {
      "image/png": "[encoded data removed]",
      "text/plain": [
       "<Figure size 1008x576 with 1 Axes>"
      ]
     },
     "metadata": {
      "needs_background": "light"
     },
     "output_type": "display_data"
    }
   ],
   "source": [
    "plt.figure(figsize=(14, 8)) \n",
    "\n",
    "top_15_chains.plot(kind='bar',\n",
    "                   title='Топ-15 популярных сетей Москвы',\n",
    "                   ylabel='Количество заведений',\n",
    "                   xlabel='Наименование сети',\n",
    "                   rot=45) \n",
    "# Calculate the overall average rating of the top 15 chains\n",
    "overall_average_rating = average_ratings.mean()\n",
    "\n",
    "# Plot a horizontal line at the overall average rating\n",
    "plt.axhline(y=overall_average_rating, color='red', linestyle='--', linewidth=1, label=f'Средний рейтинг: {overall_average_rating:.2f}')\n",
    "\n",
    "plt.grid(axis='y') \n",
    "plt.legend()\n",
    "plt.tight_layout()\n",
    "plt.show()"
   ]
  },
  {
   "cell_type": "markdown",
   "id": "2eb8002e",
   "metadata": {},
   "source": [
    "## 3.16  Вывод\n",
    "Вывели топ-15 сетевых заведений Москвы:\n",
    "- «Шоколадница»: это самая популярная сеть, но её средний рейтинг (4,18) не самый высокий среди 15 лучших.\n",
    "- «Яндекс Лавка»: у этой сети самый низкий средний рейтинг (3,87) в топ-15, несмотря на то, что она довольно популярна.\n",
    "- «Кулинарная лавка братьев Караваевых» и «Буханка»: эти сети, хотя и имеют меньше заведений, чем некоторые другие, имеют одни из самых высоких средних оценок в топ-15.\n",
    "- Важно отметить, что популярность сети (большое количество заведений) не гарантирует автоматически более высокий средний рейтинг.\n",
    "- Большинство сетей имеют средний рейтинг выше 4,0. Это говорит о в целом положительном уровне удовлетворенности клиентов."
   ]
  },
  {
   "cell_type": "markdown",
   "id": "f9fcee9b",
   "metadata": {},
   "source": [
    "### 3.17  Задача 8\n",
    "Изучим вариацию среднего чека заведения (столбец middle_avg_bill) в зависимости от района Москвы. Проанализируем цены в Центральном административном округе и других. Как удалённость от центра влияет на цены в заведениях?"
   ]
  },
  {
   "cell_type": "code",
   "execution_count": 56,
   "id": "3f0fc72f",
   "metadata": {},
   "outputs": [
    {
     "data": {
      "text/plain": [
       "district\n",
       "Центральный административный округ         1191.057547\n",
       "Западный административный округ            1053.225490\n",
       "Северный административный округ             927.959627\n",
       "Южный административный округ                834.398089\n",
       "Северо-Западный административный округ      822.222930\n",
       "Восточный административный округ            820.626923\n",
       "Юго-Западный административный округ         792.561702\n",
       "Северо-Восточный административный округ     716.611296\n",
       "Юго-Восточный административный округ        654.097938\n",
       "Name: middle_avg_bill, dtype: float64"
      ]
     },
     "metadata": {},
     "output_type": "display_data"
    }
   ],
   "source": [
    "# Выведем значения среднего чека в разрезе административного района Москвы\n",
    "average_bill_by_district = df_new.groupby('district')['middle_avg_bill'].mean()\n",
    "sorted_average_bill = average_bill_by_district.sort_values(ascending=False) \n",
    "display(sorted_average_bill)"
   ]
  },
  {
   "cell_type": "code",
   "execution_count": 57,
   "id": "5f63dd05",
   "metadata": {},
   "outputs": [
    {
     "data": {
      "image/png": "[encoded data removed]",
      "text/plain": [
       "<Figure size 864x432 with 1 Axes>"
      ]
     },
     "metadata": {
      "needs_background": "light"
     },
     "output_type": "display_data"
    }
   ],
   "source": [
    "plt.figure(figsize=(12, 6))  \n",
    "sorted_average_bill.sort_values(ascending=True).plot(kind='barh')\n",
    "plt.title(\"Средний чек заведений по административным районам Москвы\")\n",
    "plt.xlabel(\"Средний чек\")\n",
    "plt.ylabel(\"Район Москвы\")\n",
    "plt.xticks(rotation=45, ha=\"right\")\n",
    "plt.tight_layout()\n",
    "plt.show()"
   ]
  },
  {
   "cell_type": "code",
   "execution_count": 58,
   "id": "dea798ad",
   "metadata": {},
   "outputs": [
    {
     "data": {
      "text/plain": [
       "'Средний чек в Центральном административном округе'"
      ]
     },
     "metadata": {},
     "output_type": "display_data"
    },
    {
     "data": {
      "text/plain": [
       "1191.0575471698114"
      ]
     },
     "metadata": {},
     "output_type": "display_data"
    },
    {
     "data": {
      "text/plain": [
       "'Средний чек в остальных районах Москвы'"
      ]
     },
     "metadata": {},
     "output_type": "display_data"
    },
    {
     "data": {
      "text/plain": [
       "839.8228817616084"
      ]
     },
     "metadata": {},
     "output_type": "display_data"
    }
   ],
   "source": [
    "# Создаем переменную для фильтрации по Центральному административному округу\n",
    "cao_district = 'Центральный административный округ'\n",
    "cao_establishments = df_new[df_new['district'] == cao_district]\n",
    "# Создаем переменную для фильтрации остальных районов Москвы, исключая ЦАО\n",
    "other_districts_establishments = df_new[df_new['district'] != cao_district]\n",
    "# Считаем средний чек по ЦАО и по другим районам\n",
    "cao_bill_stats = cao_establishments['middle_avg_bill'].mean()\n",
    "other_districts_bill_stats = other_districts_establishments['middle_avg_bill'].mean()\n",
    "display(\"Средний чек в Центральном административном округе\")\n",
    "display(cao_bill_stats)\n",
    "display(\"Средний чек в остальных районах Москвы\")\n",
    "display(other_districts_bill_stats)"
   ]
  },
  {
   "cell_type": "markdown",
   "id": "330e3fe0",
   "metadata": {},
   "source": [
    "## 3.18  Вывод\n",
    "- Центральный административный округ (ЦАО) имеет самый высокий средний чек со значительным отрывом (1191). Это говорит о том, что заведения в самом центре Москвы в целом дороже, чем в других районах.\n",
    "- По мере удаления от центра наблюдается общая тенденция к снижению среднего размера счёта. В таких районах, как Западный, Северный и Южный административные округа, средний размер счёта постепенно снижается по сравнению с ЦАО.\n",
    "- В таких районах, как Юго-Восточный, Северо-Восточный и Юго-Западный административные округа, расположенных на окраинах Москвы, одни из самых низких средних цен, что говорит о более дешёвых заведениях.\n",
    "- Средний счет в ЦAO (1191) значительно выше, чем средний счет во всех остальных округах (839,82)."
   ]
  },
  {
   "cell_type": "markdown",
   "id": "66217fb3",
   "metadata": {},
   "source": [
    "### 3.19  Задача 9\n",
    "Проведем исследования других данных и их взаимосвязи. Например, часы работы заведений или стоимость чашки кофе в зависимости от расположения или типа заведения."
   ]
  },
  {
   "cell_type": "code",
   "execution_count": 59,
   "id": "5f0d0996",
   "metadata": {},
   "outputs": [
    {
     "data": {
      "text/plain": [
       "district\n",
       "Западный административный округ            189.640000\n",
       "Центральный административный округ         188.210843\n",
       "Юго-Западный административный округ        183.485714\n",
       "Восточный административный округ           174.023810\n",
       "Северо-Восточный административный округ    165.333333\n",
       "Северный административный округ            165.090909\n",
       "Северо-Западный административный округ     160.458333\n",
       "Южный административный округ               157.826087\n",
       "Юго-Восточный административный округ       150.771429\n",
       "Name: middle_coffee_cup, dtype: float64"
      ]
     },
     "metadata": {},
     "output_type": "display_data"
    }
   ],
   "source": [
    "# Выведем среднюю чашку кофе по районам\n",
    "coffee_data = df_new.dropna(subset=['middle_coffee_cup'])\n",
    "avg_coffee_by_district = coffee_data.groupby('district')['middle_coffee_cup'].mean().sort_values(ascending=False)\n",
    "display(avg_coffee_by_district)"
   ]
  },
  {
   "cell_type": "code",
   "execution_count": 60,
   "id": "9b886392",
   "metadata": {},
   "outputs": [
    {
     "data": {
      "image/png": "[encoded data removed]",
      "text/plain": [
       "<Figure size 864x432 with 1 Axes>"
      ]
     },
     "metadata": {
      "needs_background": "light"
     },
     "output_type": "display_data"
    }
   ],
   "source": [
    "plt.figure(figsize=(12, 6))\n",
    "avg_coffee_by_district.sort_values(ascending=True).plot(kind='barh')\n",
    "plt.title('Средняя цена чашки кофе по районам Москвы')\n",
    "plt.xlabel('Средняя цена чашки кофе')\n",
    "plt.ylabel('Район Москвы')\n",
    "plt.xticks(rotation=45, ha='right')\n",
    "plt.tight_layout()\n",
    "plt.show()"
   ]
  },
  {
   "cell_type": "code",
   "execution_count": 61,
   "id": "ffc96577",
   "metadata": {},
   "outputs": [
    {
     "data": {
      "text/plain": [
       "'Статистика по средней цене и количеству заведений с данными о кофе по категориям:'"
      ]
     },
     "metadata": {},
     "output_type": "display_data"
    },
    {
     "data": {
      "text/html": [
       "<div>\n",
       "<style scoped>\n",
       "    .dataframe tbody tr th:only-of-type {\n",
       "        vertical-align: middle;\n",
       "    }\n",
       "\n",
       "    .dataframe tbody tr th {\n",
       "        vertical-align: top;\n",
       "    }\n",
       "\n",
       "    .dataframe thead th {\n",
       "        text-align: right;\n",
       "    }\n",
       "</style>\n",
       "<table border=\"1\" class=\"dataframe\">\n",
       "  <thead>\n",
       "    <tr style=\"text-align: right;\">\n",
       "      <th></th>\n",
       "      <th>Средняя цена</th>\n",
       "      <th>Количество заведений</th>\n",
       "    </tr>\n",
       "    <tr>\n",
       "      <th>category</th>\n",
       "      <th></th>\n",
       "      <th></th>\n",
       "    </tr>\n",
       "  </thead>\n",
       "  <tbody>\n",
       "    <tr>\n",
       "      <th>бар,паб</th>\n",
       "      <td>208.333333</td>\n",
       "      <td>6</td>\n",
       "    </tr>\n",
       "    <tr>\n",
       "      <th>кофейня</th>\n",
       "      <td>175.055662</td>\n",
       "      <td>521</td>\n",
       "    </tr>\n",
       "    <tr>\n",
       "      <th>пиццерия</th>\n",
       "      <td>153.333333</td>\n",
       "      <td>3</td>\n",
       "    </tr>\n",
       "    <tr>\n",
       "      <th>быстрое питание</th>\n",
       "      <td>140.000000</td>\n",
       "      <td>1</td>\n",
       "    </tr>\n",
       "    <tr>\n",
       "      <th>кафе</th>\n",
       "      <td>105.500000</td>\n",
       "      <td>4</td>\n",
       "    </tr>\n",
       "  </tbody>\n",
       "</table>\n",
       "</div>"
      ],
      "text/plain": [
       "                 Средняя цена  Количество заведений\n",
       "category                                           \n",
       "бар,паб            208.333333                     6\n",
       "кофейня            175.055662                   521\n",
       "пиццерия           153.333333                     3\n",
       "быстрое питание    140.000000                     1\n",
       "кафе               105.500000                     4"
      ]
     },
     "metadata": {},
     "output_type": "display_data"
    }
   ],
   "source": [
    "# Выведем среднюю цену чашки кофе в зависимости от категорий заведений\n",
    "avg_coffee_by_category = coffee_data.groupby('category')['middle_coffee_cup'].mean().sort_values(ascending=False)\n",
    "# Добавим количество чашек кофе (количество заведений, в которых есть данные о цене кофе)\n",
    "coffee_counts_by_category = coffee_data.groupby('category')['middle_coffee_cup'].count()\n",
    "\n",
    "# Объединим результаты в один DataFrame для удобства просмотра\n",
    "coffee_stats_category = pd.DataFrame({'Средняя цена': avg_coffee_by_category,\n",
    "                                      'Количество заведений': coffee_counts_by_category})\n",
    "coffee_stats_category = coffee_stats_category.sort_values(by='Средняя цена', ascending=False)\n",
    "display(\"Статистика по средней цене и количеству заведений с данными о кофе по категориям:\")\n",
    "display(coffee_stats_category)"
   ]
  },
  {
   "cell_type": "markdown",
   "id": "bc8c4b0a",
   "metadata": {},
   "source": [
    "## 3.20  Вывод\n",
    "- Самые высокие цены в Западном и Центральном округах: в Западном административном округе (ЗАО) и Центральном административном округе (ЦАО) самые высокие средние цены на кофейные чашки — около 188–190 рублей. Это может быть связано с более высокими эксплуатационными расходами, более состоятельной клиентурой или большей концентрацией элитных кофеен и ресторанов в этих районах.\n",
    "- Более низкие цены в Юго-Восточном округе: в Юго-Восточном АО самая низкая средняя цена за чашку кофе (около 150 рублей). Это говорит о том, что кофейни в этом районе ориентированы на более чувствительный к ценам рынок или имеют более низкие операционные расходы.\n",
    "- Количество заведений, предоставляющих данные о цене кофе, сильно варьируется в зависимости от категории. В кофейнях таких заведений намного больше (521), чем в остальных категориях. Это означает, что средняя цена для кофеен является более надежной и репрезентативной, чем для других категорий.\n",
    "- Для баров/пабов, пиццерий, заведений быстрого питания и кафе данные о цене кофе представлены очень небольшим количеством заведений (от 1 до 6). Это означает, что средняя цена для этих категорий может быть неточной и не отражать реальную ситуацию на рынке.\n",
    "- В целом можно сказать, что кофейни предлагают кофе по достаточно высокой цене (175,06 руб.), и этот вывод является наиболее надёжным.\n",
    "- И также можно сделать вывод, что местоположение заведения влияет на цены в заведениях."
   ]
  },
  {
   "cell_type": "markdown",
   "id": "c8ee038b",
   "metadata": {},
   "source": [
    "## 3.21  Промежуточный вывод\n",
    "- Кафе (2376) и рестораны (2042) являются наиболее распространенными типами заведений в нашем наборе данных и вместе составляют значительную часть всех заведений.\n",
    "- В Центральном административном округе (2242 заведения) значительно выше концентрация ресторанов и кафе по сравнению со всеми остальными округами. Это говорит о том, что он является крупным центром общественного питания в городе.\n",
    "- В других административных районах (Северном, Южном, Северо-Восточном, Западном, Восточном, Юго-Восточном, Юго-Западном) количество заведений примерно одинаковое и составляет от 700 до 900."
   ]
  },
  {
   "cell_type": "markdown",
   "id": "d3a74124",
   "metadata": {},
   "source": [
    "- Все категории заведений представлены как сетевые, так и несетевые. В большинстве категорий: кафе (67%), ресторан (64%), быстрое питание (62%), бар/паб (78%), столовая(72%) преобладают несетевые заведения. В категориях булочная (61%) и пиццерия (52%) сетевых заведений больше, чем несетевых.\n",
    "- Большие значения медианы количества посадочных мест у ресторанов (86,0), баров (82,0), кофеин (80,0). В этих категориях ориентированы на предоставление сидячих мест для посетителей. Наименьшие значения медианы у булочных (50,0), пиццерий (55,0), кафе (60,0). Можно предположить, что заведения данных категорий нацелены преимущественно на обслуживание клиентов на вынос.\n",
    "- Средние оценки по всем категориям относительно высоки и составляют примерно от 4,05 до 4,39. Это говорит о том, что в целом заведения такого типа воспринимаются положительно."
   ]
  },
  {
   "cell_type": "markdown",
   "id": "d9be9dd1",
   "metadata": {},
   "source": [
    "- Существует взаимосвязь: чем выше цена в ресторане, тем выше рейтинг.\n",
    "- Важно отметить, что популярность сети (большое количество заведений) не гарантирует автоматически более высокий средний рейтинг.\n",
    "- Большинство сетей имеют средний рейтинг выше 4,0. Это говорит о в целом положительном уровне удовлетворенности клиентов.\n",
    "- Средний счет в ЦAO (1191) значительно выше, чем средний счет во всех остальных округах (839,82).\n",
    "- Местоположение заведения влияет на цены в заведениях."
   ]
  },
  {
   "cell_type": "markdown",
   "id": "53063294",
   "metadata": {},
   "source": [
    "# 4.1  Выводы и рекомендации\n",
    "Основываясь на представленных данных, вот несколько рекомендаций для инвестора, планирующего открыть новое заведение общественного питания в Москве:\n",
    "\n",
    "1. Определение формата заведения:\n",
    "- Несетевое кафе или ресторан: учитывая, что несетевые заведения преобладают в категориях «кафе» (67%) и «ресторан» (64%), это может быть перспективным направлением. Это позволяет гибко адаптироваться к местным потребностям и создать уникальную концепцию. Рекомендация: сосредоточьтесь на создании уникального концепта и качественном сервисе, чтобы выделиться на фоне конкурентов.\n",
    "- Сетевая булочная или пиццерия: если вы планируете масштабируемый бизнес, рассмотрите возможность открытия сетевой булочной (61% сетевых) или пиццерии (52% сетевых). Рекомендация: используйте стандартизацию и отлаженные процессы для обеспечения стабильного качества и масштабирования.\n",
    "- Кофейня: Учитывая почти равную долю сетевых и несетевых кофеен, можно рассмотреть оба варианта.\n",
    "2. Выбор местоположения:\n",
    "- Центральный административный округ (ЦАО): несмотря на высокую конкуренцию (2242 заведения), ЦАО привлекает более платежеспособную аудиторию, что подтверждается самым высоким средним чеком (1191 руб.). Рекомендация: если концепция заведения соответствует высоким стандартам и ценам, ЦАО может быть выгодным местом.\n",
    "- Другие округа: в других округах (Северном, Южном и т. д.) конкуренция ниже (700–900 заведений), что может облегчить привлечение клиентов.\n",
    "3. Формирование ценовой политики:\n",
    "- Учитывая корреляцию цены и рейтинга: данные показывают, что более высокая цена связана с более высоким рейтингом (корреляция 0,22). Рекомендация: не стоит экономить на качестве ингредиентов и обслуживании, так как это положительно влияет на восприятие заведения.\n",
    "- Анализируя средний чек по районам: средний чек в ЦАО значительно выше (1191 руб.), чем в других округах (839,82 руб.). Рекомендация: устанавливайте цены, соответствующие экономическим условиям выбранного района.\n",
    "4. Количество посадочных мест:\n",
    "- В ресторанах, барах и кофейнях обычно больше посадочных мест (медиана 86, 82 и 80 соответственно), чем в булочных, пиццериях и кафе (медиана 50, 55 и 60 соответственно). Рекомендация: определите приоритетность: обслуживание на месте или на вынос, и соответствующим образом спланируйте количество посадочных мест.\n",
    "5. Рейтинг и качество:\n",
    "- Стремитесь к высокому рейтингу: средние оценки по всем категориям высоки (4,05-4,39). Рекомендация: постоянно работайте над качеством продукции и сервиса, чтобы поддерживать высокий уровень удовлетворенности клиентов.\n",
    "- Популярность сети не гарантирует высокий рейтинг: Рекомендация: уделяйте внимание качеству и сервису в каждом отдельном заведении, независимо от популярности бренда.\n",
    "- В заключение: инвестору следует тщательно проанализировать рынок, определить целевую аудиторию, выбрать оптимальное местоположение, сформировать конкурентоспособную ценовую политику и постоянно работать над качеством продукции и сервиса. Сочетание этих факторов повысит шансы на успех нового заведения общественного питания в Москве."
   ]
  },
  {
   "cell_type": "code",
   "execution_count": null,
   "id": "37f2f61e",
   "metadata": {},
   "outputs": [],
   "source": []
  }
 ],
 "metadata": {
  "kernelspec": {
   "display_name": "Python 3 (ipykernel)",
   "language": "python",
   "name": "python3"
  },
  "language_info": {
   "codemirror_mode": {
    "name": "ipython",
    "version": 3
   },
   "file_extension": ".py",
   "mimetype": "text/x-python",
   "name": "python",
   "nbconvert_exporter": "python",
   "pygments_lexer": "ipython3",
   "version": "3.9.7"
  }
 },
 "nbformat": 4,
 "nbformat_minor": 5
}
